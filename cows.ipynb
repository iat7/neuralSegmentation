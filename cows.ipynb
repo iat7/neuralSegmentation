{
 "cells": [
  {
   "cell_type": "code",
   "execution_count": 1,
   "metadata": {},
   "outputs": [
    {
     "name": "stderr",
     "output_type": "stream",
     "text": [
      "/home/ivan/anaconda3/lib/python3.6/site-packages/h5py/__init__.py:36: FutureWarning: Conversion of the second argument of issubdtype from `float` to `np.floating` is deprecated. In future, it will be treated as `np.float64 == np.dtype(float).type`.\n",
      "  from ._conv import register_converters as _register_converters\n",
      "Using TensorFlow backend.\n"
     ]
    }
   ],
   "source": [
    "import numpy as np\n",
    "import pandas as pd\n",
    "import os\n",
    "import skimage\n",
    "from skimage import io\n",
    "from skimage import img_as_float\n",
    "from sklearn.feature_extraction.image import extract_patches_2d\n",
    "from sklearn.metrics import roc_auc_score, f1_score\n",
    "from os import listdir\n",
    "from skimage import io, transform, util, img_as_float\n",
    "from tqdm import tqdm_notebook\n",
    "from keras_tqdm import TQDMNotebookCallback\n",
    "from PIL import Image\n",
    "from fastnumbers import fast_real\n",
    "from keras import Sequential\n",
    "from keras import models\n",
    "from keras.layers.core import Activation, Reshape, Permute\n",
    "from keras.layers import Conv2D, Flatten, Dropout, Dense, MaxPooling2D\n",
    "from keras.layers.convolutional import Convolution2D, MaxPooling2D, UpSampling2D\n",
    "from keras.layers.normalization import BatchNormalization\n",
    "%matplotlib inline"
   ]
  },
  {
   "cell_type": "code",
   "execution_count": 2,
   "metadata": {},
   "outputs": [],
   "source": [
    "from tqdm import tqdm"
   ]
  },
  {
   "cell_type": "code",
   "execution_count": 21,
   "metadata": {},
   "outputs": [],
   "source": [
    "def txt2mask (path):\n",
    "    yLinesCoords = []\n",
    "    f = open(path, 'r', encoding='utf-16')\n",
    "    line = f.readline()\n",
    "    while line:\n",
    "        line = f.readline()\n",
    "        if line.split(\"\t\")[0] != \"\" :\n",
    "            num1 = line.split(\"\t\")[0]\n",
    "            num2 = line.split(\"\t\")[1].split(\"\\n\")[0]\n",
    "            yLinesCoords.append(fast_real(num1))\n",
    "            yLinesCoords.append(fast_real(num2))\n",
    "    f.close()\n",
    "    \n",
    "    res = np.zeros((h, w))\n",
    "    i = 0\n",
    "    while i < len(yLinesCoords)/2:\n",
    "        j = yLinesCoords[2*i]\n",
    "        while j < yLinesCoords[2*i + 1]:\n",
    "            for k in range(w):\n",
    "                res[j][k] = 1\n",
    "            j += 1\n",
    "        i += 1   \n",
    "    return res"
   ]
  },
  {
   "cell_type": "code",
   "execution_count": 23,
   "metadata": {},
   "outputs": [],
   "source": [
    "def shape32 (img):\n",
    "    padded_img = np.zeros((3520, 2496))\n",
    "    padded_img[:img.shape[0], :img.shape[1]] = img\n",
    "    return padded_img"
   ]
  },
  {
   "cell_type": "code",
   "execution_count": 24,
   "metadata": {},
   "outputs": [],
   "source": [
    "n_train_samples = 100\n",
    "n_test_samples = 20\n",
    "n_labels = 2\n",
    "kernel = 15\n",
    "h = 3520 #3508\n",
    "w = 2496 #2480"
   ]
  },
  {
   "cell_type": "code",
   "execution_count": 10,
   "metadata": {},
   "outputs": [
    {
     "name": "stderr",
     "output_type": "stream",
     "text": [
      "3it [00:08,  2.82s/it]/home/ivan/anaconda3/lib/python3.6/site-packages/tqdm/_monitor.py:89: TqdmSynchronisationWarning: Set changed size during iteration (see https://github.com/tqdm/tqdm/issues/481)\n",
      "  TqdmSynchronisationWarning)\n",
      "80it [03:38,  2.73s/it]\n"
     ]
    }
   ],
   "source": [
    "#_train\n",
    "#X_train = np.zeros((n_train_samples, h, w))\n",
    "#Y_train = np.zeros((n_train_samples, h, w))\n",
    "\n",
    "for i, filename in tqdm(enumerate(os.listdir('train_img/')[:n_train_samples])):\n",
    "    onlyName = filename.split('.')[0]\n",
    "    img = skimage.io.imread('train_img/' + filename)\n",
    "    if img.shape != (3508, 2480):\n",
    "        raise ValueError('yobik')\n",
    "    shaped = shape32(img)\n",
    "    normalized = shaped / 255.0\n",
    "    x_arr = normalized\n",
    "    y_arr = txt2mask('train_txt/' + onlyName + '.txt')\n",
    "    np.savez_compressed('saved/train/' + onlyName + '.npz', x=x_arr, y=y_arr)\n",
    "    #X_train[i] = normalized\n",
    "    #Y_train[i] = txt2mask('train_txt/' + filename.split('.')[0] + '.txt')\n",
    "    \n",
    "    "
   ]
  },
  {
   "cell_type": "code",
   "execution_count": 13,
   "metadata": {},
   "outputs": [
    {
     "name": "stderr",
     "output_type": "stream",
     "text": [
      "3it [00:08,  2.83s/it]/home/ivan/anaconda3/lib/python3.6/site-packages/tqdm/_monitor.py:89: TqdmSynchronisationWarning: Set changed size during iteration (see https://github.com/tqdm/tqdm/issues/481)\n",
      "  TqdmSynchronisationWarning)\n",
      "20it [00:56,  2.82s/it]\n"
     ]
    }
   ],
   "source": [
    "#_test\n",
    "#X_test = np.zeros((n_test_samples, h, w))\n",
    "#Y_test = np.zeros((n_test_samples, h, w))\n",
    "\n",
    "for i, filename in tqdm(enumerate(os.listdir('test_img/')[:n_test_samples])):\n",
    "    img = skimage.io.imread('test_img/' + filename)\n",
    "    if img.shape != (3508, 2480):\n",
    "        raise ValueError('yobik')\n",
    "    shaped = shape32(img)\n",
    "    normalized = shaped / 255.0\n",
    "    x_arr = normalized\n",
    "    y_arr = txt2mask('test_txt/' + filename.split('.')[0] + '.txt')\n",
    "    np.savez_compressed('saved/test/' + filename.split('.')[0] + '.npz', x=x_arr, y=y_arr)\n",
    "    #X_test[i] = normalized\n",
    "    #Y_test[i] = txt2mask('test_txt/' + filename.split('.')[0] + '.txt')\n",
    "    "
   ]
  },
  {
   "cell_type": "code",
   "execution_count": null,
   "metadata": {},
   "outputs": [],
   "source": [
    "np.savez_compressed('saved/arrays_train.npz', xtrain=X_train, ytrain = Y_train)\n",
    "np.savez_compressed('saved/arrays_test.npz', xtest=X_test, ytest = Y_test)"
   ]
  },
  {
   "cell_type": "code",
   "execution_count": 25,
   "metadata": {},
   "outputs": [],
   "source": [
    "def img_generator(directory, batch_size):\n",
    "    filenames = os.listdir(directory)\n",
    "    while True:\n",
    "        n_iter = len(filenames) // batch_size\n",
    "        residual = len(filenames) % batch_size\n",
    "        for i in range(n_iter):\n",
    "            size = batch_size\n",
    "            if (i == n_iter - 1) and (residual > 0):\n",
    "                size = residual\n",
    "            X = np.zeros((batch_size, h, w, 1))\n",
    "            y = np.zeros((batch_size, h * w, 2))\n",
    "            for j in range(size):\n",
    "                X[j] = np.load(directory + filenames[i * batch_size + j])['x'].reshape((h, w, 1))\n",
    "                y_ = np.load(directory + filenames[i * batch_size + j])['y'].reshape((h * w, ))\n",
    "                y[j, :, 1] = y_\n",
    "                y[j, :, 0] = 1 - y_\n",
    "            yield X, y"
   ]
  },
  {
   "cell_type": "code",
   "execution_count": 26,
   "metadata": {},
   "outputs": [],
   "source": [
    "train_generator = img_generator('saved/train/', 1)\n",
    "test_generator = img_generator('saved/test/', 1)"
   ]
  },
  {
   "cell_type": "code",
   "execution_count": null,
   "metadata": {},
   "outputs": [],
   "source": [
    "loaded_train = np.load('saved/arrays_train.npz')\n",
    "loaded_test = np.load('saved/arrays_test.npz')\n",
    "X_train = loaded_train['xtrain']\n",
    "Y_train = loaded_train['ytrain']\n",
    "X_test = loaded_test['xtest']\n",
    "Y_test = loaded_test['ytest']"
   ]
  },
  {
   "cell_type": "code",
   "execution_count": 27,
   "metadata": {},
   "outputs": [
    {
     "name": "stderr",
     "output_type": "stream",
     "text": [
      "/home/ivan/anaconda3/lib/python3.6/site-packages/ipykernel_launcher.py:3: UserWarning: Update your `Conv2D` call to the Keras 2 API: `Conv2D(16, (15, 15), input_shape=(3520, 249..., padding=\"same\")`\n",
      "  This is separate from the ipykernel package so we can avoid doing imports until\n",
      "/home/ivan/anaconda3/lib/python3.6/site-packages/ipykernel_launcher.py:8: UserWarning: Update your `Conv2D` call to the Keras 2 API: `Conv2D(16, (15, 15), padding=\"same\")`\n",
      "  \n",
      "/home/ivan/anaconda3/lib/python3.6/site-packages/ipykernel_launcher.py:13: UserWarning: Update your `Conv2D` call to the Keras 2 API: `Conv2D(16, (15, 15), padding=\"same\")`\n",
      "  del sys.path[0]\n",
      "/home/ivan/anaconda3/lib/python3.6/site-packages/ipykernel_launcher.py:18: UserWarning: Update your `Conv2D` call to the Keras 2 API: `Conv2D(16, (15, 15), padding=\"same\")`\n",
      "/home/ivan/anaconda3/lib/python3.6/site-packages/ipykernel_launcher.py:22: UserWarning: Update your `Conv2D` call to the Keras 2 API: `Conv2D(16, (15, 15), padding=\"same\")`\n",
      "/home/ivan/anaconda3/lib/python3.6/site-packages/ipykernel_launcher.py:27: UserWarning: Update your `Conv2D` call to the Keras 2 API: `Conv2D(16, (15, 15), padding=\"same\")`\n",
      "/home/ivan/anaconda3/lib/python3.6/site-packages/ipykernel_launcher.py:40: UserWarning: Update your `Conv2D` call to the Keras 2 API: `Conv2D(64, (15, 15), padding=\"same\")`\n",
      "/home/ivan/anaconda3/lib/python3.6/site-packages/ipykernel_launcher.py:46: UserWarning: Update your `Conv2D` call to the Keras 2 API: `Conv2D(16, (15, 15), padding=\"same\")`\n",
      "/home/ivan/anaconda3/lib/python3.6/site-packages/ipykernel_launcher.py:51: UserWarning: Update your `Conv2D` call to the Keras 2 API: `Conv2D(16, (15, 15), padding=\"same\")`\n",
      "/home/ivan/anaconda3/lib/python3.6/site-packages/ipykernel_launcher.py:56: UserWarning: Update your `Conv2D` call to the Keras 2 API: `Conv2D(16, (15, 15), padding=\"same\")`\n",
      "/home/ivan/anaconda3/lib/python3.6/site-packages/ipykernel_launcher.py:61: UserWarning: Update your `Conv2D` call to the Keras 2 API: `Conv2D(16, (15, 15), padding=\"same\")`\n",
      "/home/ivan/anaconda3/lib/python3.6/site-packages/ipykernel_launcher.py:66: UserWarning: Update your `Conv2D` call to the Keras 2 API: `Conv2D(16, (15, 15), padding=\"same\")`\n",
      "/home/ivan/anaconda3/lib/python3.6/site-packages/ipykernel_launcher.py:69: UserWarning: Update your `Conv2D` call to the Keras 2 API: `Conv2D(2, (1, 1), padding=\"valid\")`\n"
     ]
    }
   ],
   "source": [
    "autoencoder = Sequential()\n",
    "encoding_layers = [\n",
    "    Convolution2D(16, kernel, kernel, border_mode='same', input_shape=( 3520, 2496, 1)),\n",
    "    BatchNormalization(),\n",
    "    Activation('relu'),\n",
    "    MaxPooling2D(),\n",
    "#    \n",
    "    Convolution2D(16, kernel, kernel, border_mode='same'),\n",
    "    BatchNormalization(),\n",
    "    Activation('relu'),\n",
    "    MaxPooling2D(),\n",
    "#    \n",
    "    Convolution2D(16, kernel, kernel, border_mode='same'),\n",
    "    BatchNormalization(),\n",
    "    Activation('relu'),\n",
    "    MaxPooling2D(),\n",
    "#\n",
    "    Convolution2D(16, kernel, kernel, border_mode='same'),\n",
    "    BatchNormalization(),\n",
    "    Activation('relu'),\n",
    "#   \n",
    "    Convolution2D(16, kernel, kernel, border_mode='same'),\n",
    "    BatchNormalization(),\n",
    "    Activation('relu'),\n",
    "    MaxPooling2D(),\n",
    "#    \n",
    "    Convolution2D(16, kernel, kernel, border_mode='same'),\n",
    "    BatchNormalization(),\n",
    "    Activation('relu'),\n",
    "    MaxPooling2D(),\n",
    "]\n",
    "\n",
    "\n",
    "for l in encoding_layers:\n",
    "    autoencoder.add(l)\n",
    "    #print(l.input_shape,l.output_shape,l)\n",
    "\n",
    "decoding_layers = [\n",
    "    UpSampling2D(),\n",
    "    Convolution2D(64, kernel, kernel, border_mode='same'),\n",
    "    BatchNormalization(),\n",
    "    Activation('relu'),\n",
    "    \n",
    "#   \n",
    "    UpSampling2D(),\n",
    "    Convolution2D(16, kernel, kernel, border_mode='same'),\n",
    "    BatchNormalization(),\n",
    "    Activation('relu'),\n",
    "    \n",
    "#   \n",
    "    Convolution2D(16, kernel, kernel, border_mode='same'),\n",
    "    BatchNormalization(),\n",
    "    Activation('relu'),\n",
    "#\n",
    "    UpSampling2D(),\n",
    "    Convolution2D(16, kernel, kernel, border_mode='same'),\n",
    "    BatchNormalization(),\n",
    "    Activation('relu'),\n",
    "#   \n",
    "    UpSampling2D(),\n",
    "    Convolution2D(16, kernel, kernel, border_mode='same'),\n",
    "    BatchNormalization(),\n",
    "    Activation('relu'),\n",
    "#\n",
    "    UpSampling2D(),\n",
    "    Convolution2D(16, kernel, kernel, border_mode='same'),\n",
    "    BatchNormalization(),\n",
    "    Activation('relu'),\n",
    "    Convolution2D(n_labels, 1, 1, border_mode='valid'),\n",
    "    BatchNormalization(),\n",
    "    \n",
    "]\n",
    "\n",
    "for l in decoding_layers:\n",
    "    autoencoder.add(l)\n",
    "    #print(l.input_shape,l.output_shape,l)\n",
    "autoencoder.add(Reshape((n_labels, 3520 * 2496)))\n",
    "autoencoder.add(Permute((2, 1)))\n",
    "autoencoder.add(Activation('softmax'))"
   ]
  },
  {
   "cell_type": "code",
   "execution_count": 28,
   "metadata": {},
   "outputs": [
    {
     "name": "stdout",
     "output_type": "stream",
     "text": [
      "_________________________________________________________________\n",
      "Layer (type)                 Output Shape              Param #   \n",
      "=================================================================\n",
      "conv2d_53 (Conv2D)           (None, 3520, 2496, 16)    3616      \n",
      "_________________________________________________________________\n",
      "batch_normalization_53 (Batc (None, 3520, 2496, 16)    64        \n",
      "_________________________________________________________________\n",
      "activation_52 (Activation)   (None, 3520, 2496, 16)    0         \n",
      "_________________________________________________________________\n",
      "max_pooling2d_21 (MaxPooling (None, 1760, 1248, 16)    0         \n",
      "_________________________________________________________________\n",
      "conv2d_54 (Conv2D)           (None, 1760, 1248, 16)    57616     \n",
      "_________________________________________________________________\n",
      "batch_normalization_54 (Batc (None, 1760, 1248, 16)    64        \n",
      "_________________________________________________________________\n",
      "activation_53 (Activation)   (None, 1760, 1248, 16)    0         \n",
      "_________________________________________________________________\n",
      "max_pooling2d_22 (MaxPooling (None, 880, 624, 16)      0         \n",
      "_________________________________________________________________\n",
      "conv2d_55 (Conv2D)           (None, 880, 624, 16)      57616     \n",
      "_________________________________________________________________\n",
      "batch_normalization_55 (Batc (None, 880, 624, 16)      64        \n",
      "_________________________________________________________________\n",
      "activation_54 (Activation)   (None, 880, 624, 16)      0         \n",
      "_________________________________________________________________\n",
      "max_pooling2d_23 (MaxPooling (None, 440, 312, 16)      0         \n",
      "_________________________________________________________________\n",
      "conv2d_56 (Conv2D)           (None, 440, 312, 16)      57616     \n",
      "_________________________________________________________________\n",
      "batch_normalization_56 (Batc (None, 440, 312, 16)      64        \n",
      "_________________________________________________________________\n",
      "activation_55 (Activation)   (None, 440, 312, 16)      0         \n",
      "_________________________________________________________________\n",
      "conv2d_57 (Conv2D)           (None, 440, 312, 16)      57616     \n",
      "_________________________________________________________________\n",
      "batch_normalization_57 (Batc (None, 440, 312, 16)      64        \n",
      "_________________________________________________________________\n",
      "activation_56 (Activation)   (None, 440, 312, 16)      0         \n",
      "_________________________________________________________________\n",
      "max_pooling2d_24 (MaxPooling (None, 220, 156, 16)      0         \n",
      "_________________________________________________________________\n",
      "conv2d_58 (Conv2D)           (None, 220, 156, 16)      57616     \n",
      "_________________________________________________________________\n",
      "batch_normalization_58 (Batc (None, 220, 156, 16)      64        \n",
      "_________________________________________________________________\n",
      "activation_57 (Activation)   (None, 220, 156, 16)      0         \n",
      "_________________________________________________________________\n",
      "max_pooling2d_25 (MaxPooling (None, 110, 78, 16)       0         \n",
      "_________________________________________________________________\n",
      "up_sampling2d_21 (UpSampling (None, 220, 156, 16)      0         \n",
      "_________________________________________________________________\n",
      "conv2d_59 (Conv2D)           (None, 220, 156, 64)      230464    \n",
      "_________________________________________________________________\n",
      "batch_normalization_59 (Batc (None, 220, 156, 64)      256       \n",
      "_________________________________________________________________\n",
      "activation_58 (Activation)   (None, 220, 156, 64)      0         \n",
      "_________________________________________________________________\n",
      "up_sampling2d_22 (UpSampling (None, 440, 312, 64)      0         \n",
      "_________________________________________________________________\n",
      "conv2d_60 (Conv2D)           (None, 440, 312, 16)      230416    \n",
      "_________________________________________________________________\n",
      "batch_normalization_60 (Batc (None, 440, 312, 16)      64        \n",
      "_________________________________________________________________\n",
      "activation_59 (Activation)   (None, 440, 312, 16)      0         \n",
      "_________________________________________________________________\n",
      "conv2d_61 (Conv2D)           (None, 440, 312, 16)      57616     \n",
      "_________________________________________________________________\n",
      "batch_normalization_61 (Batc (None, 440, 312, 16)      64        \n",
      "_________________________________________________________________\n",
      "activation_60 (Activation)   (None, 440, 312, 16)      0         \n",
      "_________________________________________________________________\n",
      "up_sampling2d_23 (UpSampling (None, 880, 624, 16)      0         \n",
      "_________________________________________________________________\n",
      "conv2d_62 (Conv2D)           (None, 880, 624, 16)      57616     \n",
      "_________________________________________________________________\n",
      "batch_normalization_62 (Batc (None, 880, 624, 16)      64        \n",
      "_________________________________________________________________\n",
      "activation_61 (Activation)   (None, 880, 624, 16)      0         \n",
      "_________________________________________________________________\n",
      "up_sampling2d_24 (UpSampling (None, 1760, 1248, 16)    0         \n",
      "_________________________________________________________________\n",
      "conv2d_63 (Conv2D)           (None, 1760, 1248, 16)    57616     \n",
      "_________________________________________________________________\n",
      "batch_normalization_63 (Batc (None, 1760, 1248, 16)    64        \n",
      "_________________________________________________________________\n",
      "activation_62 (Activation)   (None, 1760, 1248, 16)    0         \n",
      "_________________________________________________________________\n",
      "up_sampling2d_25 (UpSampling (None, 3520, 2496, 16)    0         \n",
      "_________________________________________________________________\n",
      "conv2d_64 (Conv2D)           (None, 3520, 2496, 16)    57616     \n",
      "_________________________________________________________________\n",
      "batch_normalization_64 (Batc (None, 3520, 2496, 16)    64        \n",
      "_________________________________________________________________\n",
      "activation_63 (Activation)   (None, 3520, 2496, 16)    0         \n",
      "_________________________________________________________________\n",
      "conv2d_65 (Conv2D)           (None, 3520, 2496, 2)     34        \n",
      "_________________________________________________________________\n",
      "batch_normalization_65 (Batc (None, 3520, 2496, 2)     8         \n",
      "_________________________________________________________________\n",
      "reshape_5 (Reshape)          (None, 2, 8785920)        0         \n",
      "_________________________________________________________________\n",
      "permute_4 (Permute)          (None, 8785920, 2)        0         \n",
      "_________________________________________________________________\n",
      "activation_64 (Activation)   (None, 8785920, 2)        0         \n",
      "=================================================================\n",
      "Total params: 984,042\n",
      "Trainable params: 983,558\n",
      "Non-trainable params: 484\n",
      "_________________________________________________________________\n"
     ]
    }
   ],
   "source": [
    "autoencoder.summary()"
   ]
  },
  {
   "cell_type": "code",
   "execution_count": null,
   "metadata": {},
   "outputs": [
    {
     "name": "stdout",
     "output_type": "stream",
     "text": [
      "Epoch 1/10\n"
     ]
    }
   ],
   "source": [
    "train_generator = img_generator('saved/train/', 5)\n",
    "test_generator = img_generator('saved/test/', 5)\n",
    "\n",
    "autoencoder.compile(optimizer='adam', loss='categorical_crossentropy', metrics=['accuracy'])\n",
    "autoencoder.fit_generator(train_generator, steps_per_epoch=100//5, epochs=10, validation_data=test_generator, validation_steps=4)"
   ]
  },
  {
   "cell_type": "code",
   "execution_count": null,
   "metadata": {},
   "outputs": [],
   "source": []
  }
 ],
 "metadata": {
  "kernelspec": {
   "display_name": "Python 3",
   "language": "python",
   "name": "python3"
  },
  "language_info": {
   "codemirror_mode": {
    "name": "ipython",
    "version": 3
   },
   "file_extension": ".py",
   "mimetype": "text/x-python",
   "name": "python",
   "nbconvert_exporter": "python",
   "pygments_lexer": "ipython3",
   "version": "3.6.4"
  }
 },
 "nbformat": 4,
 "nbformat_minor": 2
}
