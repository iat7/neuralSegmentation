{
 "cells": [
  {
   "cell_type": "code",
   "execution_count": 11,
   "metadata": {},
   "outputs": [],
   "source": [
    "import numpy as np\n",
    "import pandas as pd\n",
    "import os\n",
    "import skimage\n",
    "from skimage import io\n",
    "from skimage import img_as_float\n",
    "from sklearn.feature_extraction.image import extract_patches_2d\n",
    "from sklearn.metrics import roc_auc_score, f1_score\n",
    "from os import listdir\n",
    "from skimage import io, transform, util, img_as_float\n",
    "from tqdm import tqdm_notebook\n",
    "from keras_tqdm import TQDMNotebookCallback\n",
    "from fastnumbers import fast_real\n",
    "from keras import Sequential\n",
    "from keras import models\n",
    "from keras.layers.core import Activation, Reshape, Permute\n",
    "from keras.layers import Conv2D, Flatten, Dropout, Dense, MaxPooling2D\n",
    "from keras.layers.convolutional import Convolution2D, MaxPooling2D, UpSampling2D\n",
    "from keras.layers.normalization import BatchNormalization\n",
    "from tqdm import tqdm\n",
    "%matplotlib inline"
   ]
  },
  {
   "cell_type": "code",
   "execution_count": 17,
   "metadata": {},
   "outputs": [],
   "source": [
    "def txt2arr (path):\n",
    "    yLinesCoords = []\n",
    "    f = open(path, 'r', encoding='utf-16')\n",
    "    line = f.readline()\n",
    "    while line:\n",
    "        line = f.readline()\n",
    "        if line.split(\"\t\")[0] != \"\" :\n",
    "            num1 = line.split(\"\t\")[0]\n",
    "            num2 = line.split(\"\t\")[1].split(\"\\n\")[0]\n",
    "            yLinesCoords.append(fast_real(num1))\n",
    "            yLinesCoords.append(fast_real(num2))\n",
    "    f.close()\n",
    "    \n",
    "    res = np.zeros(3508)\n",
    "    i = 0\n",
    "    while i < len(yLinesCoords)/2:\n",
    "        j = yLinesCoords[2*i]\n",
    "        while j < yLinesCoords[2*i + 1]:\n",
    "            res[j]= 1\n",
    "            j += 1\n",
    "        i += 1   \n",
    "    return res"
   ]
  },
  {
   "cell_type": "code",
   "execution_count": 43,
   "metadata": {},
   "outputs": [
    {
     "name": "stderr",
     "output_type": "stream",
     "text": [
      "/home/ivan/anaconda3/lib/python3.6/site-packages/tqdm/_monitor.py:89: TqdmSynchronisationWarning: Set changed size during iteration (see https://github.com/tqdm/tqdm/issues/481)\n",
      "  TqdmSynchronisationWarning)\n"
     ]
    },
    {
     "name": "stdout",
     "output_type": "stream",
     "text": [
      "[[0.00389402 0.00389624 0.00389846 ... 0.00392157 0.00392157 0.00392157]\n",
      " [0.00389402 0.00389624 0.00389846 ... 0.00392157 0.00392157 0.00392157]\n",
      " [0.00390502 0.00390724 0.00389846 ... 0.00392157 0.00392157 0.00392157]\n",
      " ...\n",
      " [0.00392157 0.00392157 0.00392157 ... 0.00392157 0.00392157 0.00392157]\n",
      " [0.00392157 0.00392157 0.00392157 ... 0.00392157 0.00392157 0.00392157]\n",
      " [0.00392157 0.00392157 0.00392157 ... 0.00392157 0.00392157 0.00392157]]\n"
     ]
    }
   ],
   "source": [
    "img = skimage.io.imread('train_img/1.jpg', as_grey=True)\n",
    "x_arr = img / 255.0\n",
    "print (x_arr)"
   ]
  },
  {
   "cell_type": "code",
   "execution_count": 12,
   "metadata": {},
   "outputs": [],
   "source": [
    "def shapeA4 (img):\n",
    "    padded_img = np.zeros((3508, 2480))\n",
    "    padded_img[:img.shape[0], :img.shape[1]] = img\n",
    "    return padded_img"
   ]
  },
  {
   "cell_type": "code",
   "execution_count": 13,
   "metadata": {},
   "outputs": [],
   "source": [
    "n_train_samples = 84\n",
    "n_test_samples = 21\n",
    "n_labels = 2\n",
    "kernel_first = 5\n",
    "kernel_second = 7\n",
    "h = 1754#3508#1760 #3520 #3508\n",
    "w = 1240#2480#1248 #2496 #2480"
   ]
  },
  {
   "cell_type": "code",
   "execution_count": 15,
   "metadata": {},
   "outputs": [
    {
     "name": "stdout",
     "output_type": "stream",
     "text": [
      "yes\n"
     ]
    }
   ],
   "source": [
    "if os.path.exists('train_txt_furigana/no_furigana.txt'):\n",
    "    print ('yes')\n",
    "else:\n",
    "    print ('no')"
   ]
  },
  {
   "cell_type": "code",
   "execution_count": 44,
   "metadata": {},
   "outputs": [
    {
     "name": "stderr",
     "output_type": "stream",
     "text": [
      "\n",
      "\n",
      "0it [00:00, ?it/s]\u001b[A\u001b[A"
     ]
    },
    {
     "name": "stdout",
     "output_type": "stream",
     "text": [
      "625\n"
     ]
    },
    {
     "name": "stderr",
     "output_type": "stream",
     "text": [
      "/home/ivan/anaconda3/lib/python3.6/site-packages/tqdm/_monitor.py:89: TqdmSynchronisationWarning: Set changed size during iteration (see https://github.com/tqdm/tqdm/issues/481)\n",
      "  TqdmSynchronisationWarning)\n",
      "\n",
      "\n",
      "1it [00:05,  5.56s/it]\u001b[A\u001b[A"
     ]
    },
    {
     "name": "stdout",
     "output_type": "stream",
     "text": [
      "604\n"
     ]
    },
    {
     "name": "stderr",
     "output_type": "stream",
     "text": [
      "\n",
      "\n",
      "2it [00:11,  5.52s/it]\u001b[A\u001b[A"
     ]
    },
    {
     "name": "stdout",
     "output_type": "stream",
     "text": [
      "585\n"
     ]
    },
    {
     "name": "stderr",
     "output_type": "stream",
     "text": [
      "\n",
      "\n",
      "3it [00:16,  5.40s/it]\u001b[A\u001b[A"
     ]
    },
    {
     "name": "stdout",
     "output_type": "stream",
     "text": [
      "607\n"
     ]
    },
    {
     "name": "stderr",
     "output_type": "stream",
     "text": [
      "\n",
      "\n",
      "4it [00:21,  5.34s/it]\u001b[A\u001b[A"
     ]
    },
    {
     "name": "stdout",
     "output_type": "stream",
     "text": [
      "654\n"
     ]
    },
    {
     "name": "stderr",
     "output_type": "stream",
     "text": [
      "\n",
      "\n",
      "5it [00:26,  5.30s/it]\u001b[A\u001b[A"
     ]
    },
    {
     "name": "stdout",
     "output_type": "stream",
     "text": [
      "655\n"
     ]
    },
    {
     "name": "stderr",
     "output_type": "stream",
     "text": [
      "\n",
      "\n",
      "6it [00:32,  5.34s/it]\u001b[A\u001b[A"
     ]
    },
    {
     "name": "stdout",
     "output_type": "stream",
     "text": [
      "620\n"
     ]
    },
    {
     "name": "stderr",
     "output_type": "stream",
     "text": [
      "\n",
      "\n",
      "7it [00:37,  5.30s/it]\u001b[A\u001b[A"
     ]
    },
    {
     "name": "stdout",
     "output_type": "stream",
     "text": [
      "652\n"
     ]
    },
    {
     "name": "stderr",
     "output_type": "stream",
     "text": [
      "\n",
      "\n",
      "8it [00:42,  5.27s/it]\u001b[A\u001b[A"
     ]
    },
    {
     "name": "stdout",
     "output_type": "stream",
     "text": [
      "616\n"
     ]
    },
    {
     "name": "stderr",
     "output_type": "stream",
     "text": [
      "\n",
      "\n",
      "9it [00:47,  5.23s/it]\u001b[A\u001b[A"
     ]
    },
    {
     "name": "stdout",
     "output_type": "stream",
     "text": [
      "587\n"
     ]
    },
    {
     "name": "stderr",
     "output_type": "stream",
     "text": [
      "\n",
      "\n",
      "10it [00:51,  5.19s/it]\u001b[A\u001b[A"
     ]
    },
    {
     "name": "stdout",
     "output_type": "stream",
     "text": [
      "589\n"
     ]
    },
    {
     "name": "stderr",
     "output_type": "stream",
     "text": [
      "\n",
      "\n",
      "11it [00:56,  5.17s/it]\u001b[A\u001b[A"
     ]
    },
    {
     "name": "stdout",
     "output_type": "stream",
     "text": [
      "610\n"
     ]
    },
    {
     "name": "stderr",
     "output_type": "stream",
     "text": [
      "\n",
      "\n",
      "12it [01:02,  5.18s/it]\u001b[A\u001b[A"
     ]
    },
    {
     "name": "stdout",
     "output_type": "stream",
     "text": [
      "624\n"
     ]
    },
    {
     "name": "stderr",
     "output_type": "stream",
     "text": [
      "\n",
      "\n",
      "13it [01:06,  5.14s/it]\u001b[A\u001b[A"
     ]
    },
    {
     "name": "stdout",
     "output_type": "stream",
     "text": [
      "1\n"
     ]
    },
    {
     "name": "stderr",
     "output_type": "stream",
     "text": [
      "\n",
      "\n",
      "14it [01:14,  5.29s/it]\u001b[A\u001b[A"
     ]
    },
    {
     "name": "stdout",
     "output_type": "stream",
     "text": [
      "648\n"
     ]
    },
    {
     "name": "stderr",
     "output_type": "stream",
     "text": [
      "\n",
      "\n",
      "15it [01:19,  5.27s/it]\u001b[A\u001b[A"
     ]
    },
    {
     "name": "stdout",
     "output_type": "stream",
     "text": [
      "657\n"
     ]
    },
    {
     "name": "stderr",
     "output_type": "stream",
     "text": [
      "\n",
      "\n",
      "16it [01:24,  5.26s/it]\u001b[A\u001b[A"
     ]
    },
    {
     "name": "stdout",
     "output_type": "stream",
     "text": [
      "609\n"
     ]
    },
    {
     "name": "stderr",
     "output_type": "stream",
     "text": [
      "\n",
      "\n",
      "17it [01:28,  5.23s/it]\u001b[A\u001b[A"
     ]
    },
    {
     "name": "stdout",
     "output_type": "stream",
     "text": [
      "594\n"
     ]
    },
    {
     "name": "stderr",
     "output_type": "stream",
     "text": [
      "\n",
      "\n",
      "18it [01:33,  5.21s/it]\u001b[A\u001b[A"
     ]
    },
    {
     "name": "stdout",
     "output_type": "stream",
     "text": [
      "647\n"
     ]
    },
    {
     "name": "stderr",
     "output_type": "stream",
     "text": [
      "\n",
      "\n",
      "19it [01:38,  5.19s/it]\u001b[A\u001b[A"
     ]
    },
    {
     "name": "stdout",
     "output_type": "stream",
     "text": [
      "622\n"
     ]
    },
    {
     "name": "stderr",
     "output_type": "stream",
     "text": [
      "\n",
      "\n",
      "20it [01:43,  5.17s/it]\u001b[A\u001b[A"
     ]
    },
    {
     "name": "stdout",
     "output_type": "stream",
     "text": [
      "593\n"
     ]
    },
    {
     "name": "stderr",
     "output_type": "stream",
     "text": [
      "\n",
      "\n",
      "21it [01:48,  5.15s/it]\u001b[A\u001b[A"
     ]
    },
    {
     "name": "stdout",
     "output_type": "stream",
     "text": [
      "643\n"
     ]
    },
    {
     "name": "stderr",
     "output_type": "stream",
     "text": [
      "\n",
      "\n",
      "22it [01:53,  5.15s/it]\u001b[A\u001b[A"
     ]
    },
    {
     "name": "stdout",
     "output_type": "stream",
     "text": [
      "582\n"
     ]
    },
    {
     "name": "stderr",
     "output_type": "stream",
     "text": [
      "\n",
      "\n",
      "23it [01:57,  5.13s/it]\u001b[A\u001b[A"
     ]
    },
    {
     "name": "stdout",
     "output_type": "stream",
     "text": [
      "627\n"
     ]
    },
    {
     "name": "stderr",
     "output_type": "stream",
     "text": [
      "\n",
      "\n",
      "24it [02:02,  5.09s/it]\u001b[A\u001b[A"
     ]
    },
    {
     "name": "stdout",
     "output_type": "stream",
     "text": [
      "634\n"
     ]
    },
    {
     "name": "stderr",
     "output_type": "stream",
     "text": [
      "\n",
      "\n",
      "25it [02:07,  5.09s/it]\u001b[A\u001b[A"
     ]
    },
    {
     "name": "stdout",
     "output_type": "stream",
     "text": [
      "630\n"
     ]
    },
    {
     "name": "stderr",
     "output_type": "stream",
     "text": [
      "\n",
      "\n",
      "26it [02:12,  5.08s/it]\u001b[A\u001b[A"
     ]
    },
    {
     "name": "stdout",
     "output_type": "stream",
     "text": [
      "650\n"
     ]
    },
    {
     "name": "stderr",
     "output_type": "stream",
     "text": [
      "\n",
      "\n",
      "27it [02:16,  5.07s/it]\u001b[A\u001b[A"
     ]
    },
    {
     "name": "stdout",
     "output_type": "stream",
     "text": [
      "660\n"
     ]
    },
    {
     "name": "stderr",
     "output_type": "stream",
     "text": [
      "\n",
      "\n",
      "28it [02:22,  5.08s/it]\u001b[A\u001b[A"
     ]
    },
    {
     "name": "stdout",
     "output_type": "stream",
     "text": [
      "614\n"
     ]
    },
    {
     "name": "stderr",
     "output_type": "stream",
     "text": [
      "\n",
      "\n",
      "29it [02:26,  5.07s/it]\u001b[A\u001b[A"
     ]
    },
    {
     "name": "stdout",
     "output_type": "stream",
     "text": [
      "597\n"
     ]
    },
    {
     "name": "stderr",
     "output_type": "stream",
     "text": [
      "\n",
      "\n",
      "30it [02:32,  5.07s/it]\u001b[A\u001b[A"
     ]
    },
    {
     "name": "stdout",
     "output_type": "stream",
     "text": [
      "612\n"
     ]
    },
    {
     "name": "stderr",
     "output_type": "stream",
     "text": [
      "\n",
      "\n",
      "31it [02:36,  5.06s/it]\u001b[A\u001b[A"
     ]
    },
    {
     "name": "stdout",
     "output_type": "stream",
     "text": [
      "599\n"
     ]
    },
    {
     "name": "stderr",
     "output_type": "stream",
     "text": [
      "\n",
      "\n",
      "32it [02:41,  5.05s/it]\u001b[A\u001b[A"
     ]
    },
    {
     "name": "stdout",
     "output_type": "stream",
     "text": [
      "600\n"
     ]
    },
    {
     "name": "stderr",
     "output_type": "stream",
     "text": [
      "\n",
      "\n",
      "33it [02:46,  5.04s/it]\u001b[A\u001b[A"
     ]
    },
    {
     "name": "stdout",
     "output_type": "stream",
     "text": [
      "598\n"
     ]
    },
    {
     "name": "stderr",
     "output_type": "stream",
     "text": [
      "\n",
      "\n",
      "34it [02:51,  5.04s/it]\u001b[A\u001b[A"
     ]
    },
    {
     "name": "stdout",
     "output_type": "stream",
     "text": [
      "646\n"
     ]
    },
    {
     "name": "stderr",
     "output_type": "stream",
     "text": [
      "\n",
      "\n",
      "35it [02:56,  5.04s/it]\u001b[A\u001b[A"
     ]
    },
    {
     "name": "stdout",
     "output_type": "stream",
     "text": [
      "608\n"
     ]
    },
    {
     "name": "stderr",
     "output_type": "stream",
     "text": [
      "\n",
      "\n",
      "36it [03:01,  5.05s/it]\u001b[A\u001b[A"
     ]
    },
    {
     "name": "stdout",
     "output_type": "stream",
     "text": [
      "606\n"
     ]
    },
    {
     "name": "stderr",
     "output_type": "stream",
     "text": [
      "\n",
      "\n",
      "37it [03:06,  5.04s/it]\u001b[A\u001b[A"
     ]
    },
    {
     "name": "stdout",
     "output_type": "stream",
     "text": [
      "656\n"
     ]
    },
    {
     "name": "stderr",
     "output_type": "stream",
     "text": [
      "\n",
      "\n",
      "38it [03:11,  5.04s/it]\u001b[A\u001b[A"
     ]
    },
    {
     "name": "stdout",
     "output_type": "stream",
     "text": [
      "613\n"
     ]
    },
    {
     "name": "stderr",
     "output_type": "stream",
     "text": [
      "\n",
      "\n",
      "39it [03:16,  5.03s/it]\u001b[A\u001b[A"
     ]
    },
    {
     "name": "stdout",
     "output_type": "stream",
     "text": [
      "661\n"
     ]
    },
    {
     "name": "stderr",
     "output_type": "stream",
     "text": [
      "\n",
      "\n",
      "40it [03:21,  5.03s/it]\u001b[A\u001b[A"
     ]
    },
    {
     "name": "stdout",
     "output_type": "stream",
     "text": [
      "638\n"
     ]
    },
    {
     "name": "stderr",
     "output_type": "stream",
     "text": [
      "\n",
      "\n",
      "41it [03:25,  5.02s/it]\u001b[A\u001b[A"
     ]
    },
    {
     "name": "stdout",
     "output_type": "stream",
     "text": [
      "605\n"
     ]
    },
    {
     "name": "stderr",
     "output_type": "stream",
     "text": [
      "\n",
      "\n",
      "42it [03:30,  5.02s/it]\u001b[A\u001b[A"
     ]
    },
    {
     "name": "stdout",
     "output_type": "stream",
     "text": [
      "632\n"
     ]
    },
    {
     "name": "stderr",
     "output_type": "stream",
     "text": [
      "\n",
      "\n",
      "43it [03:35,  5.02s/it]\u001b[A\u001b[A"
     ]
    },
    {
     "name": "stdout",
     "output_type": "stream",
     "text": [
      "611\n"
     ]
    },
    {
     "name": "stderr",
     "output_type": "stream",
     "text": [
      "\n",
      "\n",
      "44it [03:40,  5.01s/it]\u001b[A\u001b[A"
     ]
    },
    {
     "name": "stdout",
     "output_type": "stream",
     "text": [
      "642\n"
     ]
    },
    {
     "name": "stderr",
     "output_type": "stream",
     "text": [
      "\n",
      "\n",
      "45it [03:45,  5.01s/it]\u001b[A\u001b[A"
     ]
    },
    {
     "name": "stdout",
     "output_type": "stream",
     "text": [
      "645\n"
     ]
    },
    {
     "name": "stderr",
     "output_type": "stream",
     "text": [
      "\n",
      "\n",
      "46it [03:50,  5.01s/it]\u001b[A\u001b[A"
     ]
    },
    {
     "name": "stdout",
     "output_type": "stream",
     "text": [
      "596\n"
     ]
    },
    {
     "name": "stderr",
     "output_type": "stream",
     "text": [
      "\n",
      "\n",
      "47it [03:55,  5.01s/it]\u001b[A\u001b[A"
     ]
    },
    {
     "name": "stdout",
     "output_type": "stream",
     "text": [
      "615\n"
     ]
    },
    {
     "name": "stderr",
     "output_type": "stream",
     "text": [
      "\n",
      "\n",
      "48it [03:59,  5.00s/it]\u001b[A\u001b[A"
     ]
    },
    {
     "name": "stdout",
     "output_type": "stream",
     "text": [
      "658\n"
     ]
    },
    {
     "name": "stderr",
     "output_type": "stream",
     "text": [
      "\n",
      "\n",
      "49it [04:03,  4.98s/it]\u001b[A\u001b[A"
     ]
    },
    {
     "name": "stdout",
     "output_type": "stream",
     "text": [
      "603\n"
     ]
    },
    {
     "name": "stderr",
     "output_type": "stream",
     "text": [
      "\n",
      "\n",
      "50it [04:07,  4.96s/it]\u001b[A\u001b[A"
     ]
    },
    {
     "name": "stdout",
     "output_type": "stream",
     "text": [
      "633\n"
     ]
    },
    {
     "name": "stderr",
     "output_type": "stream",
     "text": [
      "\n",
      "\n",
      "51it [04:11,  4.94s/it]\u001b[A\u001b[A"
     ]
    },
    {
     "name": "stdout",
     "output_type": "stream",
     "text": [
      "591\n"
     ]
    },
    {
     "name": "stderr",
     "output_type": "stream",
     "text": [
      "\n",
      "\n",
      "52it [04:15,  4.92s/it]\u001b[A\u001b[A"
     ]
    },
    {
     "name": "stdout",
     "output_type": "stream",
     "text": [
      "626\n"
     ]
    },
    {
     "name": "stderr",
     "output_type": "stream",
     "text": [
      "\n",
      "\n",
      "53it [04:18,  4.89s/it]\u001b[A\u001b[A"
     ]
    },
    {
     "name": "stdout",
     "output_type": "stream",
     "text": [
      "3\n"
     ]
    },
    {
     "name": "stderr",
     "output_type": "stream",
     "text": [
      "\n",
      "\n",
      "54it [04:24,  4.90s/it]\u001b[A\u001b[A"
     ]
    },
    {
     "name": "stdout",
     "output_type": "stream",
     "text": [
      "601\n"
     ]
    },
    {
     "name": "stderr",
     "output_type": "stream",
     "text": [
      "\n",
      "\n",
      "55it [04:28,  4.87s/it]\u001b[A\u001b[A"
     ]
    },
    {
     "name": "stdout",
     "output_type": "stream",
     "text": [
      "617\n"
     ]
    },
    {
     "name": "stderr",
     "output_type": "stream",
     "text": [
      "\n",
      "\n",
      "56it [04:31,  4.86s/it]\u001b[A\u001b[A"
     ]
    },
    {
     "name": "stdout",
     "output_type": "stream",
     "text": [
      "590\n"
     ]
    },
    {
     "name": "stderr",
     "output_type": "stream",
     "text": [
      "\n",
      "\n",
      "57it [04:35,  4.84s/it]\u001b[A\u001b[A"
     ]
    },
    {
     "name": "stdout",
     "output_type": "stream",
     "text": [
      "631\n"
     ]
    },
    {
     "name": "stderr",
     "output_type": "stream",
     "text": [
      "\n",
      "\n",
      "58it [04:39,  4.82s/it]\u001b[A\u001b[A"
     ]
    },
    {
     "name": "stdout",
     "output_type": "stream",
     "text": [
      "595\n"
     ]
    },
    {
     "name": "stderr",
     "output_type": "stream",
     "text": [
      "\n",
      "\n",
      "59it [04:43,  4.81s/it]\u001b[A\u001b[A"
     ]
    },
    {
     "name": "stdout",
     "output_type": "stream",
     "text": [
      "619\n"
     ]
    },
    {
     "name": "stderr",
     "output_type": "stream",
     "text": [
      "\n",
      "\n",
      "60it [04:47,  4.79s/it]\u001b[A\u001b[A"
     ]
    },
    {
     "name": "stdout",
     "output_type": "stream",
     "text": [
      "651\n"
     ]
    },
    {
     "name": "stderr",
     "output_type": "stream",
     "text": [
      "\n",
      "\n",
      "61it [04:51,  4.78s/it]\u001b[A\u001b[A"
     ]
    },
    {
     "name": "stdout",
     "output_type": "stream",
     "text": [
      "637\n"
     ]
    },
    {
     "name": "stderr",
     "output_type": "stream",
     "text": [
      "\n",
      "\n",
      "62it [04:55,  4.76s/it]\u001b[A\u001b[A"
     ]
    },
    {
     "name": "stdout",
     "output_type": "stream",
     "text": [
      "659\n"
     ]
    },
    {
     "name": "stderr",
     "output_type": "stream",
     "text": [
      "\n",
      "\n",
      "63it [04:59,  4.75s/it]\u001b[A\u001b[A"
     ]
    },
    {
     "name": "stdout",
     "output_type": "stream",
     "text": [
      "640\n"
     ]
    },
    {
     "name": "stderr",
     "output_type": "stream",
     "text": [
      "\n",
      "\n",
      "64it [05:03,  4.74s/it]\u001b[A\u001b[A"
     ]
    },
    {
     "name": "stdout",
     "output_type": "stream",
     "text": [
      "602\n"
     ]
    },
    {
     "name": "stderr",
     "output_type": "stream",
     "text": [
      "\n",
      "\n",
      "65it [05:06,  4.72s/it]\u001b[A\u001b[A"
     ]
    },
    {
     "name": "stdout",
     "output_type": "stream",
     "text": [
      "4\n"
     ]
    },
    {
     "name": "stderr",
     "output_type": "stream",
     "text": [
      "\n",
      "\n",
      "66it [05:12,  4.74s/it]\u001b[A\u001b[A"
     ]
    },
    {
     "name": "stdout",
     "output_type": "stream",
     "text": [
      "588\n"
     ]
    },
    {
     "name": "stderr",
     "output_type": "stream",
     "text": [
      "\n",
      "\n",
      "67it [05:16,  4.72s/it]\u001b[A\u001b[A"
     ]
    },
    {
     "name": "stdout",
     "output_type": "stream",
     "text": [
      "583\n"
     ]
    },
    {
     "name": "stderr",
     "output_type": "stream",
     "text": [
      "\n",
      "\n",
      "68it [05:20,  4.71s/it]\u001b[A\u001b[A"
     ]
    },
    {
     "name": "stdout",
     "output_type": "stream",
     "text": [
      "628\n"
     ]
    },
    {
     "name": "stderr",
     "output_type": "stream",
     "text": [
      "\n",
      "\n",
      "69it [05:24,  4.70s/it]\u001b[A\u001b[A"
     ]
    },
    {
     "name": "stdout",
     "output_type": "stream",
     "text": [
      "649\n"
     ]
    },
    {
     "name": "stderr",
     "output_type": "stream",
     "text": [
      "\n",
      "\n",
      "70it [05:28,  4.69s/it]\u001b[A\u001b[A"
     ]
    },
    {
     "name": "stdout",
     "output_type": "stream",
     "text": [
      "641\n"
     ]
    },
    {
     "name": "stderr",
     "output_type": "stream",
     "text": [
      "\n",
      "\n",
      "71it [05:32,  4.68s/it]\u001b[A\u001b[A"
     ]
    },
    {
     "name": "stdout",
     "output_type": "stream",
     "text": [
      "584\n"
     ]
    },
    {
     "name": "stderr",
     "output_type": "stream",
     "text": [
      "\n",
      "\n",
      "72it [05:35,  4.66s/it]\u001b[A\u001b[A"
     ]
    },
    {
     "name": "stdout",
     "output_type": "stream",
     "text": [
      "586\n"
     ]
    },
    {
     "name": "stderr",
     "output_type": "stream",
     "text": [
      "\n",
      "\n",
      "73it [05:39,  4.65s/it]\u001b[A\u001b[A"
     ]
    },
    {
     "name": "stdout",
     "output_type": "stream",
     "text": [
      "621\n"
     ]
    },
    {
     "name": "stderr",
     "output_type": "stream",
     "text": [
      "\n",
      "\n",
      "74it [05:43,  4.64s/it]\u001b[A\u001b[A"
     ]
    },
    {
     "name": "stdout",
     "output_type": "stream",
     "text": [
      "644\n"
     ]
    },
    {
     "name": "stderr",
     "output_type": "stream",
     "text": [
      "\n",
      "\n",
      "75it [05:47,  4.63s/it]\u001b[A\u001b[A"
     ]
    },
    {
     "name": "stdout",
     "output_type": "stream",
     "text": [
      "629\n"
     ]
    },
    {
     "name": "stderr",
     "output_type": "stream",
     "text": [
      "\n",
      "\n",
      "76it [05:51,  4.62s/it]\u001b[A\u001b[A"
     ]
    },
    {
     "name": "stdout",
     "output_type": "stream",
     "text": [
      "653\n"
     ]
    },
    {
     "name": "stderr",
     "output_type": "stream",
     "text": [
      "\n",
      "\n",
      "77it [05:55,  4.62s/it]\u001b[A\u001b[A"
     ]
    },
    {
     "name": "stdout",
     "output_type": "stream",
     "text": [
      "639\n"
     ]
    },
    {
     "name": "stderr",
     "output_type": "stream",
     "text": [
      "\n",
      "\n",
      "78it [05:59,  4.61s/it]\u001b[A\u001b[A"
     ]
    },
    {
     "name": "stdout",
     "output_type": "stream",
     "text": [
      "636\n"
     ]
    },
    {
     "name": "stderr",
     "output_type": "stream",
     "text": [
      "\n",
      "\n",
      "79it [06:03,  4.60s/it]\u001b[A\u001b[A"
     ]
    },
    {
     "name": "stdout",
     "output_type": "stream",
     "text": [
      "635\n"
     ]
    },
    {
     "name": "stderr",
     "output_type": "stream",
     "text": [
      "\n",
      "\n",
      "80it [06:07,  4.59s/it]\u001b[A\u001b[A"
     ]
    },
    {
     "name": "stdout",
     "output_type": "stream",
     "text": [
      "592\n"
     ]
    },
    {
     "name": "stderr",
     "output_type": "stream",
     "text": [
      "\n",
      "\n",
      "81it [06:11,  4.58s/it]\u001b[A\u001b[A"
     ]
    },
    {
     "name": "stdout",
     "output_type": "stream",
     "text": [
      "623\n"
     ]
    },
    {
     "name": "stderr",
     "output_type": "stream",
     "text": [
      "\n",
      "\n",
      "82it [06:15,  4.58s/it]\u001b[A\u001b[A"
     ]
    },
    {
     "name": "stdout",
     "output_type": "stream",
     "text": [
      "2\n"
     ]
    },
    {
     "name": "stderr",
     "output_type": "stream",
     "text": [
      "\n",
      "\n",
      "83it [06:21,  4.59s/it]\u001b[A\u001b[A"
     ]
    },
    {
     "name": "stdout",
     "output_type": "stream",
     "text": [
      "618\n"
     ]
    },
    {
     "name": "stderr",
     "output_type": "stream",
     "text": [
      "\n",
      "\n",
      "84it [06:25,  4.59s/it]\u001b[A\u001b[A\n",
      "\n",
      "\u001b[A\u001b[A"
     ]
    }
   ],
   "source": [
    "for i, filename in tqdm(enumerate(os.listdir('train_img/')[:n_train_samples])):\n",
    "    onlyName = filename.split('.')[0]\n",
    "    img = skimage.io.imread('train_img/' + filename, as_grey=True)\n",
    "    \n",
    "    print(onlyName)\n",
    "    x_arr = img / 255.0\n",
    "    y_arr = txt2arr('train_txt/' + onlyName + '.txt')\n",
    "    z_arr = 'init'\n",
    "    if os.path.exists('train_txt_furigana/' + onlyName +'_furigana.txt'):\n",
    "        z_arr = txt2arr('train_txt_furigana/' + onlyName +'_furigana.txt')\n",
    "    else:\n",
    "        z_arr = txt2arr('train_txt_furigana/no_furigana.txt')\n",
    "    \n",
    "    x_arr_1 = x_arr[0:1754, 0:1240]\n",
    "    y_arr_1 = y_arr[0:1754]\n",
    "    z_arr_1 = z_arr[0:1754]\n",
    "    \n",
    "    x_arr_2 = x_arr[0:1754, 1240:2480]\n",
    "    y_arr_2 = y_arr[0:1754]\n",
    "    z_arr_2 = z_arr[0:1754]\n",
    "    \n",
    "    x_arr_3 = x_arr[1754:3508, 0:1240]\n",
    "    y_arr_3 = y_arr[1754:3508]\n",
    "    z_arr_3 = z_arr[1754:3508]\n",
    "    \n",
    "    x_arr_4 = x_arr[1754:3508, 1240:2480]\n",
    "    y_arr_4 = y_arr[1754:3508]\n",
    "    z_arr_4 = z_arr[1754:3508]\n",
    "    \n",
    "    np.savez_compressed('saved/train/' + onlyName + '_1.npz', x=x_arr_1, y=y_arr_1, z = z_arr_1) \n",
    "    np.savez_compressed('saved/train/' + onlyName + '_2.npz', x=x_arr_2, y=y_arr_2, z = z_arr_2) \n",
    "    np.savez_compressed('saved/train/' + onlyName + '_3.npz', x=x_arr_3, y=y_arr_3, z = z_arr_3) \n",
    "    np.savez_compressed('saved/train/' + onlyName + '_4.npz', x=x_arr_4, y=y_arr_4, z = z_arr_4) "
   ]
  },
  {
   "cell_type": "code",
   "execution_count": 45,
   "metadata": {},
   "outputs": [
    {
     "name": "stderr",
     "output_type": "stream",
     "text": [
      "\n",
      "\n",
      "0it [00:00, ?it/s]\u001b[A\u001b[A/home/ivan/anaconda3/lib/python3.6/site-packages/tqdm/_monitor.py:89: TqdmSynchronisationWarning: Set changed size during iteration (see https://github.com/tqdm/tqdm/issues/481)\n",
      "  TqdmSynchronisationWarning)\n",
      "\n",
      "\n",
      "1it [00:04,  4.02s/it]\u001b[A\u001b[A\n",
      "\n",
      "2it [00:07,  3.99s/it]\u001b[A\u001b[A\n",
      "\n",
      "3it [00:12,  4.00s/it]\u001b[A\u001b[A\n",
      "\n",
      "4it [00:15,  3.99s/it]\u001b[A\u001b[A\n",
      "\n",
      "5it [00:19,  4.00s/it]\u001b[A\u001b[A\n",
      "\n",
      "6it [00:24,  4.05s/it]\u001b[A\u001b[A\n",
      "\n",
      "7it [00:28,  4.14s/it]\u001b[A\u001b[A\n",
      "\n",
      "8it [00:33,  4.13s/it]\u001b[A\u001b[A\n",
      "\n",
      "9it [00:36,  4.11s/it]\u001b[A\u001b[A\n",
      "\n",
      "10it [00:41,  4.12s/it]\u001b[A\u001b[A\n",
      "\n",
      "11it [00:45,  4.12s/it]\u001b[A\u001b[A\n",
      "\n",
      "12it [00:49,  4.11s/it]\u001b[A\u001b[A\n",
      "\n",
      "13it [00:55,  4.26s/it]\u001b[A\u001b[A\n",
      "\n",
      "14it [00:59,  4.25s/it]\u001b[A\u001b[A\n",
      "\n",
      "15it [01:03,  4.24s/it]\u001b[A\u001b[A\n",
      "\n",
      "16it [01:07,  4.23s/it]\u001b[A\u001b[A\n",
      "\n",
      "17it [01:11,  4.22s/it]\u001b[A\u001b[A\n",
      "\n",
      "18it [01:15,  4.21s/it]\u001b[A\u001b[A\n",
      "\n",
      "19it [01:19,  4.19s/it]\u001b[A\u001b[A\n",
      "\n",
      "20it [01:23,  4.19s/it]\u001b[A\u001b[A\n",
      "\n",
      "21it [01:27,  4.19s/it]\u001b[A\u001b[A\n",
      "\n",
      "\u001b[A\u001b[A"
     ]
    }
   ],
   "source": [
    "for i, filename in tqdm(enumerate(os.listdir('test_img/')[:n_test_samples])):\n",
    "    onlyName = filename.split('.')[0]\n",
    "    img = skimage.io.imread('test_img/' + filename, as_grey=True)\n",
    "    x_arr = img / 255.0\n",
    "    y_arr = txt2arr('test_txt/' + onlyName + '.txt')\n",
    "    z_arr = 'init'\n",
    "    if os.path.exists('test_txt_furigana/' + onlyName +'_furigana.txt'):\n",
    "        z_arr = txt2arr('test_txt_furigana/' + onlyName +'_furigana.txt')\n",
    "    else:\n",
    "        z_arr = txt2arr('test_txt_furigana/no_furigana.txt')\n",
    "    \n",
    "    x_arr_1 = x_arr[0:1754, 0:1240]\n",
    "    y_arr_1 = y_arr[0:1754]\n",
    "    z_arr_1 = z_arr[0:1754]\n",
    "    \n",
    "    x_arr_2 = x_arr[0:1754, 1240:2480]\n",
    "    y_arr_2 = y_arr[0:1754]\n",
    "    z_arr_2 = z_arr[0:1754]\n",
    "    \n",
    "    x_arr_3 = x_arr[1754:3508, 0:1240]\n",
    "    y_arr_3 = y_arr[1754:3508]\n",
    "    z_arr_3 = z_arr[1754:3508]\n",
    "    \n",
    "    x_arr_4 = x_arr[1754:3508, 1240:2480]\n",
    "    y_arr_4 = y_arr[1754:3508]\n",
    "    z_arr_4 = z_arr[1754:3508]\n",
    "    \n",
    "    np.savez_compressed('saved/test/' + onlyName + '_1.npz', x=x_arr_1, y=y_arr_1, z = z_arr_1) \n",
    "    np.savez_compressed('saved/test/' + onlyName + '_2.npz', x=x_arr_2, y=y_arr_2, z = z_arr_2) \n",
    "    np.savez_compressed('saved/test/' + onlyName + '_3.npz', x=x_arr_3, y=y_arr_3, z = z_arr_3) \n",
    "    np.savez_compressed('saved/test/' + onlyName + '_4.npz', x=x_arr_4, y=y_arr_4, z = z_arr_4) "
   ]
  },
  {
   "cell_type": "code",
   "execution_count": 46,
   "metadata": {},
   "outputs": [
    {
     "name": "stderr",
     "output_type": "stream",
     "text": [
      "/home/ivan/anaconda3/lib/python3.6/site-packages/tqdm/_monitor.py:89: TqdmSynchronisationWarning: Set changed size during iteration (see https://github.com/tqdm/tqdm/issues/481)\n",
      "  TqdmSynchronisationWarning)\n"
     ]
    }
   ],
   "source": [
    "def img_generator(directory, batch_size):\n",
    "    filenames = os.listdir(directory)\n",
    "    while True:\n",
    "        n_iter = len(filenames) // batch_size\n",
    "        residual = len(filenames) % batch_size\n",
    "        for i in range(n_iter):\n",
    "            size = batch_size\n",
    "            if (i == n_iter - 1) and (residual > 0):\n",
    "                size = residual\n",
    "            X = np.zeros((batch_size, h, w, 1))\n",
    "            y = np.zeros((batch_size, h))\n",
    "            z = np.zeros((batch_size, h))\n",
    "            for j in range(size):\n",
    "                X[j] = np.load(directory + filenames[i * batch_size + j])['x'].reshape((h, w, 1))\n",
    "                y[j] = np.load(directory + filenames[i * batch_size + j])['y']\n",
    "                z[j] = np.load(directory + filenames[i * batch_size + j])['z']\n",
    "            y = np.stack((y, z), axis=2)\n",
    "            yield X, y"
   ]
  },
  {
   "cell_type": "code",
   "execution_count": 47,
   "metadata": {},
   "outputs": [
    {
     "name": "stderr",
     "output_type": "stream",
     "text": [
      "/home/ivan/anaconda3/lib/python3.6/site-packages/ipykernel_launcher.py:3: UserWarning: Update your `Conv2D` call to the Keras 2 API: `Conv2D(8, (5, 5), input_shape=(1754, 124..., padding=\"same\")`\n",
      "  This is separate from the ipykernel package so we can avoid doing imports until\n",
      "/home/ivan/anaconda3/lib/python3.6/site-packages/ipykernel_launcher.py:8: UserWarning: Update your `Conv2D` call to the Keras 2 API: `Conv2D(16, (5, 5), padding=\"same\")`\n",
      "  \n",
      "/home/ivan/anaconda3/lib/python3.6/site-packages/ipykernel_launcher.py:13: UserWarning: Update your `Conv2D` call to the Keras 2 API: `Conv2D(16, (7, 7), padding=\"same\")`\n",
      "  del sys.path[0]\n",
      "/home/ivan/anaconda3/lib/python3.6/site-packages/ipykernel_launcher.py:18: UserWarning: Update your `Conv2D` call to the Keras 2 API: `Conv2D(16, (5, 5), padding=\"same\")`\n",
      "/home/ivan/anaconda3/lib/python3.6/site-packages/ipykernel_launcher.py:23: UserWarning: Update your `Conv2D` call to the Keras 2 API: `Conv2D(4, (5, 5), padding=\"same\")`\n"
     ]
    }
   ],
   "source": [
    "autoencoder = Sequential()\n",
    "encoding_layers = [\n",
    "    Convolution2D(8, kernel_first, kernel_first, border_mode='same', input_shape=( 1754, 1240, 1)),\n",
    "    BatchNormalization(),\n",
    "    Activation('relu'),\n",
    "    MaxPooling2D((4,4)),\n",
    "#    \n",
    "    Convolution2D(16, kernel_first, kernel_first, border_mode='same'),\n",
    "    BatchNormalization(),\n",
    "    Activation('relu'),\n",
    "    MaxPooling2D((3,3)),\n",
    "#    \n",
    "    Convolution2D(16, kernel_second, kernel_second, border_mode='same'),\n",
    "    BatchNormalization(),\n",
    "    Activation('relu'),\n",
    "    MaxPooling2D(),\n",
    "#  \n",
    "    Convolution2D(16, kernel_first, kernel_first, border_mode='same'),\n",
    "    BatchNormalization(),\n",
    "    Activation('relu'),\n",
    "    MaxPooling2D(),\n",
    "#    \n",
    "    Convolution2D(4, kernel_first, kernel_first, border_mode='same'),\n",
    "    BatchNormalization(),\n",
    "    Activation('relu'),\n",
    "]\n",
    "\n",
    "\n",
    "for l in encoding_layers:\n",
    "    autoencoder.add(l)\n",
    "    #print(l.input_shape,l.output_shape,l)\n",
    "autoencoder.add(Flatten())\n",
    "autoencoder.add(Dense(1754 * 2, activation='sigmoid'))\n",
    "autoencoder.add(Reshape((1754, 2)))"
   ]
  },
  {
   "cell_type": "code",
   "execution_count": 48,
   "metadata": {},
   "outputs": [
    {
     "name": "stdout",
     "output_type": "stream",
     "text": [
      "_________________________________________________________________\n",
      "Layer (type)                 Output Shape              Param #   \n",
      "=================================================================\n",
      "conv2d_6 (Conv2D)            (None, 1754, 1240, 8)     208       \n",
      "_________________________________________________________________\n",
      "batch_normalization_6 (Batch (None, 1754, 1240, 8)     32        \n",
      "_________________________________________________________________\n",
      "activation_6 (Activation)    (None, 1754, 1240, 8)     0         \n",
      "_________________________________________________________________\n",
      "max_pooling2d_5 (MaxPooling2 (None, 438, 310, 8)       0         \n",
      "_________________________________________________________________\n",
      "conv2d_7 (Conv2D)            (None, 438, 310, 16)      3216      \n",
      "_________________________________________________________________\n",
      "batch_normalization_7 (Batch (None, 438, 310, 16)      64        \n",
      "_________________________________________________________________\n",
      "activation_7 (Activation)    (None, 438, 310, 16)      0         \n",
      "_________________________________________________________________\n",
      "max_pooling2d_6 (MaxPooling2 (None, 146, 103, 16)      0         \n",
      "_________________________________________________________________\n",
      "conv2d_8 (Conv2D)            (None, 146, 103, 16)      12560     \n",
      "_________________________________________________________________\n",
      "batch_normalization_8 (Batch (None, 146, 103, 16)      64        \n",
      "_________________________________________________________________\n",
      "activation_8 (Activation)    (None, 146, 103, 16)      0         \n",
      "_________________________________________________________________\n",
      "max_pooling2d_7 (MaxPooling2 (None, 73, 51, 16)        0         \n",
      "_________________________________________________________________\n",
      "conv2d_9 (Conv2D)            (None, 73, 51, 16)        6416      \n",
      "_________________________________________________________________\n",
      "batch_normalization_9 (Batch (None, 73, 51, 16)        64        \n",
      "_________________________________________________________________\n",
      "activation_9 (Activation)    (None, 73, 51, 16)        0         \n",
      "_________________________________________________________________\n",
      "max_pooling2d_8 (MaxPooling2 (None, 36, 25, 16)        0         \n",
      "_________________________________________________________________\n",
      "conv2d_10 (Conv2D)           (None, 36, 25, 4)         1604      \n",
      "_________________________________________________________________\n",
      "batch_normalization_10 (Batc (None, 36, 25, 4)         16        \n",
      "_________________________________________________________________\n",
      "activation_10 (Activation)   (None, 36, 25, 4)         0         \n",
      "_________________________________________________________________\n",
      "flatten_2 (Flatten)          (None, 3600)              0         \n",
      "_________________________________________________________________\n",
      "dense_2 (Dense)              (None, 3508)              12632308  \n",
      "_________________________________________________________________\n",
      "reshape_2 (Reshape)          (None, 1754, 2)           0         \n",
      "=================================================================\n",
      "Total params: 12,656,552\n",
      "Trainable params: 12,656,432\n",
      "Non-trainable params: 120\n",
      "_________________________________________________________________\n"
     ]
    },
    {
     "name": "stderr",
     "output_type": "stream",
     "text": [
      "/home/ivan/anaconda3/lib/python3.6/site-packages/tqdm/_monitor.py:89: TqdmSynchronisationWarning: Set changed size during iteration (see https://github.com/tqdm/tqdm/issues/481)\n",
      "  TqdmSynchronisationWarning)\n"
     ]
    }
   ],
   "source": [
    "autoencoder.summary()"
   ]
  },
  {
   "cell_type": "code",
   "execution_count": 49,
   "metadata": {},
   "outputs": [],
   "source": [
    "gen = img_generator('saved/train/', 5)\n",
    "x_, y_ = next(gen)"
   ]
  },
  {
   "cell_type": "code",
   "execution_count": 50,
   "metadata": {},
   "outputs": [
    {
     "data": {
      "text/plain": [
       "(5, 1754, 2)"
      ]
     },
     "execution_count": 50,
     "metadata": {},
     "output_type": "execute_result"
    },
    {
     "name": "stderr",
     "output_type": "stream",
     "text": [
      "/home/ivan/anaconda3/lib/python3.6/site-packages/tqdm/_monitor.py:89: TqdmSynchronisationWarning: Set changed size during iteration (see https://github.com/tqdm/tqdm/issues/481)\n",
      "  TqdmSynchronisationWarning)\n"
     ]
    }
   ],
   "source": [
    "y_.shape"
   ]
  },
  {
   "cell_type": "code",
   "execution_count": 52,
   "metadata": {
    "scrolled": true
   },
   "outputs": [
    {
     "name": "stderr",
     "output_type": "stream",
     "text": [
      "/home/ivan/anaconda3/lib/python3.6/site-packages/tqdm/_monitor.py:89: TqdmSynchronisationWarning: Set changed size during iteration (see https://github.com/tqdm/tqdm/issues/481)\n",
      "  TqdmSynchronisationWarning)\n"
     ]
    },
    {
     "name": "stdout",
     "output_type": "stream",
     "text": [
      "Epoch 1/5\n",
      "20/20 [==============================] - 2262s 113s/step - loss: 0.0046 - acc: 0.9453 - val_loss: 0.0086 - val_acc: 0.9438\n",
      "Epoch 2/5\n",
      "20/20 [==============================] - 2078s 104s/step - loss: 2.4239e-04 - acc: 0.9475 - val_loss: 0.0123 - val_acc: 0.9415\n",
      "Epoch 3/5\n",
      "20/20 [==============================] - 2063s 103s/step - loss: 5.8787e-06 - acc: 0.9509 - val_loss: 0.0258 - val_acc: 0.9179\n",
      "Epoch 4/5\n",
      "20/20 [==============================] - 2071s 104s/step - loss: 0.0016 - acc: 0.9401 - val_loss: 4.0418e-05 - val_acc: 0.9540\n",
      "Epoch 5/5\n",
      "20/20 [==============================] - 2065s 103s/step - loss: 7.9837e-04 - acc: 0.9481 - val_loss: 6.1660e-05 - val_acc: 0.9546\n"
     ]
    },
    {
     "data": {
      "text/plain": [
       "<keras.callbacks.History at 0x7ff214c42eb8>"
      ]
     },
     "execution_count": 52,
     "metadata": {},
     "output_type": "execute_result"
    }
   ],
   "source": [
    "train_generator = img_generator('saved/train/', 5)\n",
    "test_generator = img_generator('saved/test/', 5)\n",
    "\n",
    "autoencoder.compile(optimizer='adam', loss='categorical_crossentropy', metrics=['accuracy'])\n",
    "autoencoder.fit_generator(train_generator, steps_per_epoch=100//5, epochs=5, validation_data=test_generator, validation_steps=4)"
   ]
  },
  {
   "cell_type": "code",
   "execution_count": 53,
   "metadata": {},
   "outputs": [
    {
     "name": "stderr",
     "output_type": "stream",
     "text": [
      "/home/ivan/anaconda3/lib/python3.6/site-packages/tqdm/_monitor.py:89: TqdmSynchronisationWarning: Set changed size during iteration (see https://github.com/tqdm/tqdm/issues/481)\n",
      "  TqdmSynchronisationWarning)\n"
     ]
    }
   ],
   "source": [
    "autoencoder.save('temp/model.h5')\n",
    "#autoencoder = load_model('temp/model.h5')"
   ]
  },
  {
   "cell_type": "code",
   "execution_count": 87,
   "metadata": {},
   "outputs": [
    {
     "name": "stderr",
     "output_type": "stream",
     "text": [
      "/home/ivan/anaconda3/lib/python3.6/site-packages/tqdm/_monitor.py:89: TqdmSynchronisationWarning: Set changed size during iteration (see https://github.com/tqdm/tqdm/issues/481)\n",
      "  TqdmSynchronisationWarning)\n"
     ]
    },
    {
     "name": "stdout",
     "output_type": "stream",
     "text": [
      "[  11   41   56   76   86  116  121  171  181  201  216  271  301  341\n",
      "  356  406  426  476  491  536  556  601  621  656  681  726  746  826\n",
      "  851  891  916  961  981 1016 1036 1086 1111 1491 1496 1546 1551 1596\n",
      " 1601 1701 1706 1746]\n",
      "[  21   41   56   76   91  111  121  146  186  206  251  271  301  341\n",
      "  356  406  426  476  496  536  556  601  626  656  681  726  746  826\n",
      "  851  891  916  961  981 1016 1036 1086 1116 1486 1491 1536 1541 1591\n",
      " 1601 1696 1706]\n"
     ]
    }
   ],
   "source": []
  },
  {
   "cell_type": "code",
   "execution_count": 69,
   "metadata": {},
   "outputs": [],
   "source": [
    "lines = arr2lines(res)"
   ]
  },
  {
   "cell_type": "code",
   "execution_count": 70,
   "metadata": {},
   "outputs": [
    {
     "name": "stdout",
     "output_type": "stream",
     "text": [
      "[ 313  329  361  393  409  449  465  497  513  537  569  601  617  649\n",
      "  665  705  721  753  769  809  825  857  873  913  929  961  977 1017\n",
      " 1033 1065 1081 1129 1145 1169 1185 1233 1249 1273 1289 1321 1353 1377\n",
      " 1393 1425 1441 1489 1505 1529 1545 1593 1609 1633 1649 1697 1713 1737]\n"
     ]
    }
   ],
   "source": [
    "print(lines)"
   ]
  },
  {
   "cell_type": "code",
   "execution_count": 79,
   "metadata": {},
   "outputs": [
    {
     "name": "stderr",
     "output_type": "stream",
     "text": [
      "/home/ivan/anaconda3/lib/python3.6/site-packages/tqdm/_monitor.py:89: TqdmSynchronisationWarning: Set changed size during iteration (see https://github.com/tqdm/tqdm/issues/481)\n",
      "  TqdmSynchronisationWarning)\n"
     ]
    }
   ],
   "source": [
    "def arr2lines(arr, delta = 5):\n",
    "    size = len(arr)\n",
    "    #фильтрация шума\n",
    "    i = 0\n",
    "    while (i+delta < size):\n",
    "        sum = 0\n",
    "        for k in range(delta):\n",
    "            sum += arr[i+k]\n",
    "        if (sum > delta/2):\n",
    "            for k in range(delta):\n",
    "                arr[i+k] = 1\n",
    "        else:\n",
    "            for k in range(delta):\n",
    "                arr[i+k] = 0\n",
    "        i+=delta\n",
    "    while i<size:\n",
    "        arr[i] = 0 \n",
    "        i+=1\n",
    "        \n",
    "    #нахождение строк\n",
    "    listLines = []\n",
    "    i = 1\n",
    "    prev = arr[0]\n",
    "    cur = arr[1]\n",
    "    while i < size:\n",
    "        if prev != cur:\n",
    "            listLines.append(i)\n",
    "        prev = cur\n",
    "        cur = arr[i]\n",
    "        i+=1\n",
    "    res = np.array(listLines)\n",
    "    return res"
   ]
  },
  {
   "cell_type": "code",
   "execution_count": null,
   "metadata": {},
   "outputs": [],
   "source": [
    "def vizual4arr (arr, width = 50):\n",
    "    "
   ]
  },
  {
   "cell_type": "code",
   "execution_count": 59,
   "metadata": {},
   "outputs": [
    {
     "name": "stdout",
     "output_type": "stream",
     "text": [
      "<built-in method mean of numpy.ndarray object at 0x7fbe98505710>\n"
     ]
    }
   ],
   "source": [
    "A = np.array([1,2,3])\n",
    "B = np.array([2,3,4])\n",
    "result = np.abs(A-B).mean\n",
    "print (result)"
   ]
  },
  {
   "cell_type": "code",
   "execution_count": 49,
   "metadata": {},
   "outputs": [],
   "source": [
    "def getLinesFromFile (path):\n",
    "    data = []\n",
    "    f = open(path, 'r', encoding='utf-16')\n",
    "    line = f.readline()\n",
    "    while line:\n",
    "        line = f.readline()\n",
    "        if line.split(\"\t\")[0] != \"\" :\n",
    "            num1 = line.split(\"\t\")[0]\n",
    "            num2 = line.split(\"\t\")[1].split(\"\\n\")[0]\n",
    "            data.append(fast_real(num1))\n",
    "            data.append(fast_real(num2))\n",
    "    f.close()\n",
    "    res = np.array(data)\n",
    "    return res"
   ]
  },
  {
   "cell_type": "code",
   "execution_count": 54,
   "metadata": {},
   "outputs": [
    {
     "name": "stdout",
     "output_type": "stream",
     "text": [
      "[ 313  336  355  391  407  443  460  495  512  547  563  600  615  651\n",
      "  668  703  719  756  771  808  823  859  876  912  927  963  979 1015\n",
      " 1031 1067 1083 1119 1135 1171 1186 1223 1239 1275 1291 1327 1343 1379\n",
      " 1395 1431 1447 1483 1499 1535 1552 1587 1603 1640 1656 1691 1707 1743]\n",
      "56\n"
     ]
    }
   ],
   "source": [
    "origLines = getLinesFromFile('test_txt/662.txt')[0:56]\n",
    "print(origLines)\n",
    "print(len(origLines))"
   ]
  },
  {
   "cell_type": "code",
   "execution_count": 60,
   "metadata": {},
   "outputs": [],
   "source": [
    "def getMeanArrDiff (A, B):\n",
    "    size = min (len(A), len(B))\n",
    "    absSum = 0\n",
    "    for i in range(size):\n",
    "        absSum += abs (A[i] - B[i])\n",
    "    return absSum/size"
   ]
  },
  {
   "cell_type": "code",
   "execution_count": 61,
   "metadata": {},
   "outputs": [
    {
     "name": "stdout",
     "output_type": "stream",
     "text": [
      "3.8214285714285716\n"
     ]
    }
   ],
   "source": [
    "print (getMeanArrDiff (origLines, lines))"
   ]
  },
  {
   "cell_type": "code",
   "execution_count": 66,
   "metadata": {},
   "outputs": [],
   "source": [
    "def getArrDiff (A, B):\n",
    "    size = min (len(A), len(B))\n",
    "    absRes = []\n",
    "    for i in range(size):\n",
    "        absRes.append(abs(A[i] - B[i]))\n",
    "    res =np.array(absRes)\n",
    "    return res"
   ]
  },
  {
   "cell_type": "code",
   "execution_count": 71,
   "metadata": {},
   "outputs": [
    {
     "data": {
      "text/plain": [
       "(array([ 1.,  5., 22.,  3.,  0.,  1., 14.,  4.,  0.,  6.]),\n",
       " array([ 0.,  1.,  2.,  3.,  4.,  5.,  6.,  7.,  8.,  9., 10.]),\n",
       " <a list of 10 Patch objects>)"
      ]
     },
     "execution_count": 71,
     "metadata": {},
     "output_type": "execute_result"
    },
    {
     "data": {
      "image/png": "[encoded data removed]",
      "text/plain": [
       "<matplotlib.figure.Figure at 0x7fbe98422550>"
      ]
     },
     "metadata": {},
     "output_type": "display_data"
    }
   ],
   "source": [
    "import matplotlib.pyplot as plt\n",
    "plt.hist (getArrDiff(origLines, lines))"
   ]
  },
  {
   "cell_type": "code",
   "execution_count": null,
   "metadata": {},
   "outputs": [],
   "source": []
  }
 ],
 "metadata": {
  "kernelspec": {
   "display_name": "Python 3",
   "language": "python",
   "name": "python3"
  },
  "language_info": {
   "codemirror_mode": {
    "name": "ipython",
    "version": 3
   },
   "file_extension": ".py",
   "mimetype": "text/x-python",
   "name": "python",
   "nbconvert_exporter": "python",
   "pygments_lexer": "ipython3",
   "version": "3.6.4"
  }
 },
 "nbformat": 4,
 "nbformat_minor": 2
}
