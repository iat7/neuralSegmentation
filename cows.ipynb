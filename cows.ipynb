{
 "cells": [
  {
   "cell_type": "code",
   "execution_count": 1,
   "metadata": {},
   "outputs": [
    {
     "name": "stderr",
     "output_type": "stream",
     "text": [
      "/home/ivan/anaconda3/lib/python3.6/site-packages/h5py/__init__.py:36: FutureWarning: Conversion of the second argument of issubdtype from `float` to `np.floating` is deprecated. In future, it will be treated as `np.float64 == np.dtype(float).type`.\n",
      "  from ._conv import register_converters as _register_converters\n",
      "Using TensorFlow backend.\n"
     ]
    }
   ],
   "source": [
    "import numpy as np\n",
    "import pandas as pd\n",
    "import os\n",
    "import skimage\n",
    "from skimage import io\n",
    "from skimage import img_as_float\n",
    "from sklearn.feature_extraction.image import extract_patches_2d\n",
    "from sklearn.metrics import roc_auc_score, f1_score\n",
    "from os import listdir\n",
    "from skimage import io, transform, util, img_as_float\n",
    "from tqdm import tqdm_notebook\n",
    "from keras_tqdm import TQDMNotebookCallback\n",
    "from fastnumbers import fast_real\n",
    "from keras import Sequential\n",
    "from keras import models\n",
    "from keras.layers.core import Activation, Reshape, Permute\n",
    "from keras.layers import Conv2D, Flatten, Dropout, Dense, MaxPooling2D\n",
    "from keras.layers.convolutional import Convolution2D, MaxPooling2D, UpSampling2D\n",
    "from keras.layers.normalization import BatchNormalization\n",
    "from tqdm import tqdm\n",
    "%matplotlib inline"
   ]
  },
  {
   "cell_type": "code",
   "execution_count": 2,
   "metadata": {},
   "outputs": [],
   "source": [
    "def txt2arr (path):\n",
    "    yLinesCoords = []\n",
    "    f = open(path, 'r', encoding='utf-16')\n",
    "    line = f.readline()\n",
    "    while line:\n",
    "        line = f.readline()\n",
    "        if line.split(\"\t\")[0] != \"\" :\n",
    "            num1 = line.split(\"\t\")[0]\n",
    "            num2 = line.split(\"\t\")[1].split(\"\\n\")[0]\n",
    "            yLinesCoords.append(fast_real(num1))\n",
    "            yLinesCoords.append(fast_real(num2))\n",
    "    f.close()\n",
    "    \n",
    "    res = np.zeros(h)\n",
    "    i = 0\n",
    "    while i < len(yLinesCoords)/2:\n",
    "        j = yLinesCoords[2*i]\n",
    "        while j < yLinesCoords[2*i + 1]:\n",
    "            res[j]= 1\n",
    "            j += 1\n",
    "        i += 1   \n",
    "    return res"
   ]
  },
  {
   "cell_type": "code",
   "execution_count": 3,
   "metadata": {},
   "outputs": [],
   "source": [
    "def shapeA4 (img):\n",
    "    padded_img = np.zeros((3508, 2480))\n",
    "    padded_img[:img.shape[0], :img.shape[1]] = img\n",
    "    return padded_img"
   ]
  },
  {
   "cell_type": "code",
   "execution_count": 4,
   "metadata": {},
   "outputs": [],
   "source": [
    "n_train_samples = 100\n",
    "n_test_samples = 20\n",
    "n_labels = 2\n",
    "kernel_first = 5\n",
    "kernel_second = 7\n",
    "h = 1754#3508#1760 #3520 #3508\n",
    "w = 1240#2480#1248 #2496 #2480"
   ]
  },
  {
   "cell_type": "code",
   "execution_count": null,
   "metadata": {},
   "outputs": [],
   "source": [
    "for i, filename in tqdm(enumerate(os.listdir('train_img/')[:n_train_samples])):\n",
    "    onlyName = filename.split('.')[0]\n",
    "    img = skimage.io.imread('train_img/' + filename)\n",
    "    x_arr = img / 255.0\n",
    "    y_arr = txt2arr('train_txt/' + onlyName + '.txt')   \n",
    "    \n",
    "    x_arr_1 = x_arr[0:1754, 0:1240]\n",
    "    y_arr_1 = y_arr[0:1754]\n",
    "    x_arr_2 = x_arr[0:1754, 1240:2480]\n",
    "    y_arr_2 = y_arr[0:1754]\n",
    "    x_arr_3 = x_arr[1754:3508, 0:1240]\n",
    "    y_arr_3 = y_arr[1754:3508]\n",
    "    x_arr_4 = x_arr[1754:3508, 1240:2480]\n",
    "    y_arr_4 = y_arr[1754:3508]\n",
    "    \n",
    "    np.savez_compressed('saved/train/' + onlyName + '_1.npz', x=x_arr_1, y=y_arr_1) \n",
    "    np.savez_compressed('saved/train/' + onlyName + '_2.npz', x=x_arr_2, y=y_arr_2) \n",
    "    np.savez_compressed('saved/train/' + onlyName + '_3.npz', x=x_arr_3, y=y_arr_3) \n",
    "    np.savez_compressed('saved/train/' + onlyName + '_4.npz', x=x_arr_4, y=y_arr_4) "
   ]
  },
  {
   "cell_type": "code",
   "execution_count": null,
   "metadata": {},
   "outputs": [],
   "source": [
    "for i, filename in tqdm(enumerate(os.listdir('test_img/')[:n_test_samples])):\n",
    "    onlyName = filename.split('.')[0]\n",
    "    img = skimage.io.imread('test_img/' + filename)\n",
    "    x_arr = img / 255.0\n",
    "    y_arr = txt2arr('test_txt/' + onlyName + '.txt')\n",
    "    \n",
    "    x_arr_1 = x_arr[0:1754, 0:1240]\n",
    "    y_arr_1 = y_arr[0:1754]\n",
    "    x_arr_2 = x_arr[0:1754, 1240:2480]\n",
    "    y_arr_2 = y_arr[0:1754]\n",
    "    x_arr_3 = x_arr[1754:3508, 0:1240]\n",
    "    y_arr_3 = y_arr[1754:3508]\n",
    "    x_arr_4 = x_arr[1754:3508, 1240:2480]\n",
    "    y_arr_4 = y_arr[1754:3508]\n",
    "    \n",
    "    np.savez_compressed('saved/test/' + onlyName + '_1.npz', x=x_arr_1, y=y_arr_1) \n",
    "    np.savez_compressed('saved/test/' + onlyName + '_2.npz', x=x_arr_2, y=y_arr_2) \n",
    "    np.savez_compressed('saved/test/' + onlyName + '_3.npz', x=x_arr_3, y=y_arr_3) \n",
    "    np.savez_compressed('saved/test/' + onlyName + '_4.npz', x=x_arr_4, y=y_arr_4) "
   ]
  },
  {
   "cell_type": "code",
   "execution_count": 5,
   "metadata": {},
   "outputs": [],
   "source": [
    "def img_generator(directory, batch_size):\n",
    "    filenames = os.listdir(directory)\n",
    "    while True:\n",
    "        n_iter = len(filenames) // batch_size\n",
    "        residual = len(filenames) % batch_size\n",
    "        for i in range(n_iter):\n",
    "            size = batch_size\n",
    "            if (i == n_iter - 1) and (residual > 0):\n",
    "                size = residual\n",
    "            X = np.zeros((batch_size, h, w, 1))\n",
    "            y = np.zeros((batch_size, h))\n",
    "            for j in range(size):\n",
    "                X[j] = np.load(directory + filenames[i * batch_size + j])['x'].reshape((h, w, 1))\n",
    "                y[j] = np.load(directory + filenames[i * batch_size + j])['y']\n",
    "            yield X, y"
   ]
  },
  {
   "cell_type": "code",
   "execution_count": 6,
   "metadata": {},
   "outputs": [
    {
     "name": "stderr",
     "output_type": "stream",
     "text": [
      "/home/ivan/anaconda3/lib/python3.6/site-packages/ipykernel_launcher.py:3: UserWarning: Update your `Conv2D` call to the Keras 2 API: `Conv2D(8, (5, 5), input_shape=(1754, 124..., padding=\"same\")`\n",
      "  This is separate from the ipykernel package so we can avoid doing imports until\n",
      "/home/ivan/anaconda3/lib/python3.6/site-packages/ipykernel_launcher.py:8: UserWarning: Update your `Conv2D` call to the Keras 2 API: `Conv2D(16, (5, 5), padding=\"same\")`\n",
      "  \n",
      "/home/ivan/anaconda3/lib/python3.6/site-packages/ipykernel_launcher.py:13: UserWarning: Update your `Conv2D` call to the Keras 2 API: `Conv2D(16, (7, 7), padding=\"same\")`\n",
      "  del sys.path[0]\n",
      "/home/ivan/anaconda3/lib/python3.6/site-packages/ipykernel_launcher.py:18: UserWarning: Update your `Conv2D` call to the Keras 2 API: `Conv2D(16, (5, 5), padding=\"same\")`\n",
      "/home/ivan/anaconda3/lib/python3.6/site-packages/ipykernel_launcher.py:23: UserWarning: Update your `Conv2D` call to the Keras 2 API: `Conv2D(4, (5, 5), padding=\"same\")`\n"
     ]
    }
   ],
   "source": [
    "autoencoder = Sequential()\n",
    "encoding_layers = [\n",
    "    Convolution2D(8, kernel_first, kernel_first, border_mode='same', input_shape=( 1754, 1240, 1)),\n",
    "    BatchNormalization(),\n",
    "    Activation('relu'),\n",
    "    MaxPooling2D((4,4)),\n",
    "#    \n",
    "    Convolution2D(16, kernel_first, kernel_first, border_mode='same'),\n",
    "    BatchNormalization(),\n",
    "    Activation('relu'),\n",
    "    MaxPooling2D((3,3)),\n",
    "#    \n",
    "    Convolution2D(16, kernel_second, kernel_second, border_mode='same'),\n",
    "    BatchNormalization(),\n",
    "    Activation('relu'),\n",
    "    MaxPooling2D(),\n",
    "#  \n",
    "    Convolution2D(16, kernel_first, kernel_first, border_mode='same'),\n",
    "    BatchNormalization(),\n",
    "    Activation('relu'),\n",
    "    MaxPooling2D(),\n",
    "#    \n",
    "    Convolution2D(4, kernel_first, kernel_first, border_mode='same'),\n",
    "    BatchNormalization(),\n",
    "    Activation('relu'),\n",
    "]\n",
    "\n",
    "\n",
    "for l in encoding_layers:\n",
    "    autoencoder.add(l)\n",
    "    #print(l.input_shape,l.output_shape,l)\n",
    "autoencoder.add(Flatten())\n",
    "autoencoder.add(Dense(1754, activation='sigmoid'))"
   ]
  },
  {
   "cell_type": "code",
   "execution_count": 7,
   "metadata": {},
   "outputs": [
    {
     "name": "stdout",
     "output_type": "stream",
     "text": [
      "_________________________________________________________________\n",
      "Layer (type)                 Output Shape              Param #   \n",
      "=================================================================\n",
      "conv2d_1 (Conv2D)            (None, 1754, 1240, 8)     208       \n",
      "_________________________________________________________________\n",
      "batch_normalization_1 (Batch (None, 1754, 1240, 8)     32        \n",
      "_________________________________________________________________\n",
      "activation_1 (Activation)    (None, 1754, 1240, 8)     0         \n",
      "_________________________________________________________________\n",
      "max_pooling2d_1 (MaxPooling2 (None, 438, 310, 8)       0         \n",
      "_________________________________________________________________\n",
      "conv2d_2 (Conv2D)            (None, 438, 310, 16)      3216      \n",
      "_________________________________________________________________\n",
      "batch_normalization_2 (Batch (None, 438, 310, 16)      64        \n",
      "_________________________________________________________________\n",
      "activation_2 (Activation)    (None, 438, 310, 16)      0         \n",
      "_________________________________________________________________\n",
      "max_pooling2d_2 (MaxPooling2 (None, 146, 103, 16)      0         \n",
      "_________________________________________________________________\n",
      "conv2d_3 (Conv2D)            (None, 146, 103, 16)      12560     \n",
      "_________________________________________________________________\n",
      "batch_normalization_3 (Batch (None, 146, 103, 16)      64        \n",
      "_________________________________________________________________\n",
      "activation_3 (Activation)    (None, 146, 103, 16)      0         \n",
      "_________________________________________________________________\n",
      "max_pooling2d_3 (MaxPooling2 (None, 73, 51, 16)        0         \n",
      "_________________________________________________________________\n",
      "conv2d_4 (Conv2D)            (None, 73, 51, 16)        6416      \n",
      "_________________________________________________________________\n",
      "batch_normalization_4 (Batch (None, 73, 51, 16)        64        \n",
      "_________________________________________________________________\n",
      "activation_4 (Activation)    (None, 73, 51, 16)        0         \n",
      "_________________________________________________________________\n",
      "max_pooling2d_4 (MaxPooling2 (None, 36, 25, 16)        0         \n",
      "_________________________________________________________________\n",
      "conv2d_5 (Conv2D)            (None, 36, 25, 4)         1604      \n",
      "_________________________________________________________________\n",
      "batch_normalization_5 (Batch (None, 36, 25, 4)         16        \n",
      "_________________________________________________________________\n",
      "activation_5 (Activation)    (None, 36, 25, 4)         0         \n",
      "_________________________________________________________________\n",
      "flatten_1 (Flatten)          (None, 3600)              0         \n",
      "_________________________________________________________________\n",
      "dense_1 (Dense)              (None, 1754)              6316154   \n",
      "=================================================================\n",
      "Total params: 6,340,398\n",
      "Trainable params: 6,340,278\n",
      "Non-trainable params: 120\n",
      "_________________________________________________________________\n"
     ]
    }
   ],
   "source": [
    "autoencoder.summary()"
   ]
  },
  {
   "cell_type": "code",
   "execution_count": 8,
   "metadata": {
    "scrolled": true
   },
   "outputs": [
    {
     "name": "stdout",
     "output_type": "stream",
     "text": [
      "Epoch 1/10\n",
      "20/20 [==============================] - 327s 16s/step - loss: 6871.8926 - acc: 0.0000e+00 - val_loss: 6913.5885 - val_acc: 0.0000e+00\n",
      "Epoch 2/10\n",
      "20/20 [==============================] - 325s 16s/step - loss: 6760.7245 - acc: 0.0000e+00 - val_loss: 6906.2758 - val_acc: 0.0000e+00\n",
      "Epoch 3/10\n",
      "20/20 [==============================] - 337s 17s/step - loss: 6236.2217 - acc: 0.0000e+00 - val_loss: 6897.2635 - val_acc: 0.0000e+00\n",
      "Epoch 4/10\n",
      "20/20 [==============================] - 346s 17s/step - loss: 6712.0822 - acc: 0.0000e+00 - val_loss: 6892.3031 - val_acc: 0.0000e+00\n",
      "Epoch 5/10\n",
      "20/20 [==============================] - 381s 19s/step - loss: 6818.7756 - acc: 0.0000e+00 - val_loss: 6888.3483 - val_acc: 0.0000e+00\n",
      "Epoch 6/10\n",
      "20/20 [==============================] - 351s 18s/step - loss: 6436.8356 - acc: 0.0000e+00 - val_loss: 6899.1407 - val_acc: 0.0000e+00\n",
      "Epoch 7/10\n",
      "20/20 [==============================] - 351s 18s/step - loss: 6477.6091 - acc: 0.0000e+00 - val_loss: 6918.1482 - val_acc: 0.0000e+00\n",
      "Epoch 8/10\n",
      "20/20 [==============================] - 353s 18s/step - loss: 6768.2454 - acc: 0.0000e+00 - val_loss: 6906.1085 - val_acc: 0.0000e+00\n",
      "Epoch 9/10\n",
      "20/20 [==============================] - 365s 18s/step - loss: 6508.4020 - acc: 0.0000e+00 - val_loss: 6957.0238 - val_acc: 0.0000e+00\n",
      "Epoch 10/10\n",
      "20/20 [==============================] - 374s 19s/step - loss: 6479.1768 - acc: 0.0000e+00 - val_loss: 6907.4264 - val_acc: 0.0000e+00\n"
     ]
    },
    {
     "data": {
      "text/plain": [
       "<keras.callbacks.History at 0x7fbec09c3320>"
      ]
     },
     "execution_count": 8,
     "metadata": {},
     "output_type": "execute_result"
    }
   ],
   "source": [
    "train_generator = img_generator('saved/train/', 5)\n",
    "test_generator = img_generator('saved/test/', 5)\n",
    "\n",
    "autoencoder.compile(optimizer='adam', loss='categorical_crossentropy', metrics=['accuracy'])\n",
    "autoencoder.fit_generator(train_generator, steps_per_epoch=100//5, epochs=10, validation_data=test_generator, validation_steps=4)"
   ]
  },
  {
   "cell_type": "code",
   "execution_count": 9,
   "metadata": {},
   "outputs": [],
   "source": [
    "autoencoder.save('temp/model.h5')\n",
    "#autoencoder = load_model('temp/model.h5')"
   ]
  },
  {
   "cell_type": "code",
   "execution_count": 14,
   "metadata": {},
   "outputs": [],
   "source": [
    "filename = '662.jpg'\n",
    "img = skimage.io.imread('test_img/' + filename)\n",
    "normalized = img / 255.0\n",
    "x_data = normalized[0:1754, 0:1240]\n",
    "res = autoencoder.predict(x_data.reshape((1, h, w, 1)))\n"
   ]
  },
  {
   "cell_type": "code",
   "execution_count": 16,
   "metadata": {},
   "outputs": [
    {
     "name": "stdout",
     "output_type": "stream",
     "text": [
      "(1, 1754)\n"
     ]
    }
   ],
   "source": [
    "print (res.shape)"
   ]
  },
  {
   "cell_type": "code",
   "execution_count": 20,
   "metadata": {},
   "outputs": [
    {
     "name": "stdout",
     "output_type": "stream",
     "text": [
      "(1754,)\n",
      "1754\n"
     ]
    }
   ],
   "source": [
    "res = res.reshape((1754,))\n",
    "print (res.shape)\n",
    "print(len(res))"
   ]
  },
  {
   "cell_type": "code",
   "execution_count": 69,
   "metadata": {},
   "outputs": [],
   "source": [
    "lines = arr2lines(res)"
   ]
  },
  {
   "cell_type": "code",
   "execution_count": 70,
   "metadata": {},
   "outputs": [
    {
     "name": "stdout",
     "output_type": "stream",
     "text": [
      "[ 313  329  361  393  409  449  465  497  513  537  569  601  617  649\n",
      "  665  705  721  753  769  809  825  857  873  913  929  961  977 1017\n",
      " 1033 1065 1081 1129 1145 1169 1185 1233 1249 1273 1289 1321 1353 1377\n",
      " 1393 1425 1441 1489 1505 1529 1545 1593 1609 1633 1649 1697 1713 1737]\n"
     ]
    }
   ],
   "source": [
    "print(lines)"
   ]
  },
  {
   "cell_type": "code",
   "execution_count": 68,
   "metadata": {},
   "outputs": [],
   "source": [
    "def arr2lines(arr, delta = 8):\n",
    "    size = len(arr)\n",
    "    #фильтрация шума\n",
    "    i = 0\n",
    "    while (i+delta < size):\n",
    "        sum = 0\n",
    "        for k in range(delta):\n",
    "            sum += arr[i+k]\n",
    "        if (sum > delta/2):\n",
    "            for k in range(delta):\n",
    "                arr[i+k] = 1\n",
    "        else:\n",
    "            for k in range(delta):\n",
    "                arr[i+k] = 0\n",
    "        i+=delta\n",
    "    while i<size:\n",
    "        arr[i] = 0 \n",
    "        i+=1\n",
    "        \n",
    "    #нахождение строк\n",
    "    listLines = []\n",
    "    i = 1\n",
    "    prev = arr[0]\n",
    "    cur = arr[1]\n",
    "    while i < size:\n",
    "        if prev != cur:\n",
    "            listLines.append(i)\n",
    "        prev = cur\n",
    "        cur = arr[i]\n",
    "        i+=1\n",
    "    res = np.array(listLines)\n",
    "    return res"
   ]
  },
  {
   "cell_type": "code",
   "execution_count": null,
   "metadata": {},
   "outputs": [],
   "source": [
    "def vizual4arr (arr, width = 50):\n",
    "    "
   ]
  },
  {
   "cell_type": "code",
   "execution_count": 59,
   "metadata": {},
   "outputs": [
    {
     "name": "stdout",
     "output_type": "stream",
     "text": [
      "<built-in method mean of numpy.ndarray object at 0x7fbe98505710>\n"
     ]
    }
   ],
   "source": [
    "A = np.array([1,2,3])\n",
    "B = np.array([2,3,4])\n",
    "result = np.abs(A-B).mean\n",
    "print (result)"
   ]
  },
  {
   "cell_type": "code",
   "execution_count": 49,
   "metadata": {},
   "outputs": [],
   "source": [
    "def getLinesFromFile (path):\n",
    "    data = []\n",
    "    f = open(path, 'r', encoding='utf-16')\n",
    "    line = f.readline()\n",
    "    while line:\n",
    "        line = f.readline()\n",
    "        if line.split(\"\t\")[0] != \"\" :\n",
    "            num1 = line.split(\"\t\")[0]\n",
    "            num2 = line.split(\"\t\")[1].split(\"\\n\")[0]\n",
    "            data.append(fast_real(num1))\n",
    "            data.append(fast_real(num2))\n",
    "    f.close()\n",
    "    res = np.array(data)\n",
    "    return res"
   ]
  },
  {
   "cell_type": "code",
   "execution_count": 54,
   "metadata": {},
   "outputs": [
    {
     "name": "stdout",
     "output_type": "stream",
     "text": [
      "[ 313  336  355  391  407  443  460  495  512  547  563  600  615  651\n",
      "  668  703  719  756  771  808  823  859  876  912  927  963  979 1015\n",
      " 1031 1067 1083 1119 1135 1171 1186 1223 1239 1275 1291 1327 1343 1379\n",
      " 1395 1431 1447 1483 1499 1535 1552 1587 1603 1640 1656 1691 1707 1743]\n",
      "56\n"
     ]
    }
   ],
   "source": [
    "origLines = getLinesFromFile('test_txt/662.txt')[0:56]\n",
    "print(origLines)\n",
    "print(len(origLines))"
   ]
  },
  {
   "cell_type": "code",
   "execution_count": 60,
   "metadata": {},
   "outputs": [],
   "source": [
    "def getMeanArrDiff (A, B):\n",
    "    size = min (len(A), len(B))\n",
    "    absSum = 0\n",
    "    for i in range(size):\n",
    "        absSum += abs (A[i] - B[i])\n",
    "    return absSum/size"
   ]
  },
  {
   "cell_type": "code",
   "execution_count": 61,
   "metadata": {},
   "outputs": [
    {
     "name": "stdout",
     "output_type": "stream",
     "text": [
      "3.8214285714285716\n"
     ]
    }
   ],
   "source": [
    "print (getMeanArrDiff (origLines, lines))"
   ]
  },
  {
   "cell_type": "code",
   "execution_count": 66,
   "metadata": {},
   "outputs": [],
   "source": [
    "def getArrDiff (A, B):\n",
    "    size = min (len(A), len(B))\n",
    "    absRes = []\n",
    "    for i in range(size):\n",
    "        absRes.append(abs(A[i] - B[i]))\n",
    "    res =np.array(absRes)\n",
    "    return res"
   ]
  },
  {
   "cell_type": "code",
   "execution_count": 71,
   "metadata": {},
   "outputs": [
    {
     "data": {
      "text/plain": [
       "(array([ 1.,  5., 22.,  3.,  0.,  1., 14.,  4.,  0.,  6.]),\n",
       " array([ 0.,  1.,  2.,  3.,  4.,  5.,  6.,  7.,  8.,  9., 10.]),\n",
       " <a list of 10 Patch objects>)"
      ]
     },
     "execution_count": 71,
     "metadata": {},
     "output_type": "execute_result"
    },
    {
     "data": {
      "image/png": "[encoded data removed]",
      "text/plain": [
       "<matplotlib.figure.Figure at 0x7fbe98422550>"
      ]
     },
     "metadata": {},
     "output_type": "display_data"
    }
   ],
   "source": [
    "import matplotlib.pyplot as plt\n",
    "plt.hist (getArrDiff(origLines, lines))"
   ]
  },
  {
   "cell_type": "code",
   "execution_count": null,
   "metadata": {},
   "outputs": [],
   "source": []
  }
 ],
 "metadata": {
  "kernelspec": {
   "display_name": "Python 3",
   "language": "python",
   "name": "python3"
  },
  "language_info": {
   "codemirror_mode": {
    "name": "ipython",
    "version": 3
   },
   "file_extension": ".py",
   "mimetype": "text/x-python",
   "name": "python",
   "nbconvert_exporter": "python",
   "pygments_lexer": "ipython3",
   "version": "3.6.4"
  }
 },
 "nbformat": 4,
 "nbformat_minor": 2
}
