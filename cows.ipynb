{
 "cells": [
  {
   "cell_type": "code",
   "execution_count": 2,
   "metadata": {},
   "outputs": [
    {
     "name": "stderr",
     "output_type": "stream",
     "text": [
      "/home/ivan/anaconda3/lib/python3.6/site-packages/h5py/__init__.py:36: FutureWarning: Conversion of the second argument of issubdtype from `float` to `np.floating` is deprecated. In future, it will be treated as `np.float64 == np.dtype(float).type`.\n",
      "  from ._conv import register_converters as _register_converters\n",
      "Using TensorFlow backend.\n"
     ]
    }
   ],
   "source": [
    "import numpy as np\n",
    "import pandas as pd\n",
    "import os\n",
    "import skimage\n",
    "from skimage import io\n",
    "from skimage import img_as_float\n",
    "from sklearn.feature_extraction.image import extract_patches_2d\n",
    "from sklearn.metrics import roc_auc_score, f1_score\n",
    "from os import listdir\n",
    "from skimage import io, transform, util, img_as_float\n",
    "from tqdm import tqdm_notebook\n",
    "from keras_tqdm import TQDMNotebookCallback\n",
    "from PIL import Image\n",
    "from fastnumbers import fast_real\n",
    "from keras import Sequential\n",
    "from keras import models\n",
    "from keras.layers.core import Activation, Reshape, Permute\n",
    "from keras.layers import Conv2D, Flatten, Dropout, Dense, MaxPooling2D\n",
    "from keras.layers.convolutional import Convolution2D, MaxPooling2D, UpSampling2D\n",
    "from keras.layers.normalization import BatchNormalization\n",
    "%matplotlib inline"
   ]
  },
  {
   "cell_type": "code",
   "execution_count": 3,
   "metadata": {},
   "outputs": [],
   "source": [
    "from tqdm import tqdm"
   ]
  },
  {
   "cell_type": "code",
   "execution_count": 4,
   "metadata": {},
   "outputs": [],
   "source": [
    "def txt2mask (path):\n",
    "    yLinesCoords = []\n",
    "    f = open(path, 'r', encoding='utf-16')\n",
    "    line = f.readline()\n",
    "    while line:\n",
    "        line = f.readline()\n",
    "        if line.split(\"\t\")[0] != \"\" :\n",
    "            num1 = line.split(\"\t\")[0]\n",
    "            num2 = line.split(\"\t\")[1].split(\"\\n\")[0]\n",
    "            yLinesCoords.append(fast_real(num1))\n",
    "            yLinesCoords.append(fast_real(num2))\n",
    "    f.close()\n",
    "    \n",
    "    res = np.zeros((h, w))\n",
    "    i = 0\n",
    "    while i < len(yLinesCoords)/2:\n",
    "        j = yLinesCoords[2*i]\n",
    "        while j < yLinesCoords[2*i + 1]:\n",
    "            for k in range(w):\n",
    "                res[j][k] = 1\n",
    "            j += 1\n",
    "        i += 1   \n",
    "    return res"
   ]
  },
  {
   "cell_type": "code",
   "execution_count": 5,
   "metadata": {},
   "outputs": [],
   "source": [
    "def shape32 (img):\n",
    "    padded_img = np.zeros((3520, 2496))\n",
    "    padded_img[:img.shape[0], :img.shape[1]] = img\n",
    "    return padded_img"
   ]
  },
  {
   "cell_type": "code",
   "execution_count": 30,
   "metadata": {},
   "outputs": [],
   "source": [
    "n_train_samples = 100\n",
    "n_test_samples = 20\n",
    "n_labels = 2\n",
    "kernel = 15\n",
    "h = 1760 #3520 #3508\n",
    "w = 1248 #2496 #2480"
   ]
  },
  {
   "cell_type": "code",
   "execution_count": 6,
   "metadata": {},
   "outputs": [
    {
     "name": "stderr",
     "output_type": "stream",
     "text": [
      "2it [00:07,  3.53s/it]/home/ivan/anaconda3/lib/python3.6/site-packages/tqdm/_monitor.py:89: TqdmSynchronisationWarning: Set changed size during iteration (see https://github.com/tqdm/tqdm/issues/481)\n",
      "  TqdmSynchronisationWarning)\n",
      "80it [04:20,  3.25s/it]\n"
     ]
    }
   ],
   "source": [
    "#_train\n",
    "#X_train = np.zeros((n_train_samples, h, w))\n",
    "#Y_train = np.zeros((n_train_samples, h, w))\n",
    "\n",
    "for i, filename in tqdm(enumerate(os.listdir('train_img/')[:n_train_samples])):\n",
    "    onlyName = filename.split('.')[0]\n",
    "    img = skimage.io.imread('train_img/' + filename)\n",
    "    if img.shape != (3508, 2480):\n",
    "        raise ValueError('yobik')\n",
    "    shaped = shape32(img)\n",
    "    normalized = shaped / 255.0\n",
    "    x_arr = normalized\n",
    "    y_arr = txt2mask('train_txt/' + onlyName + '.txt')\n",
    "    \n",
    "    x_arr_1 = x_arr[0:1760, 0:1248]\n",
    "    y_arr_1 = y_arr[0:1760, 0:1248]\n",
    "    x_arr_2 = x_arr[1760:3520, 0:1248]\n",
    "    y_arr_2 = y_arr[1760:3520, 0:1248]\n",
    "    x_arr_3 = x_arr[0:1760, 1248:2496]\n",
    "    y_arr_3 = x_arr[0:1760, 1248:2496]\n",
    "    x_arr_4 = x_arr[1760:3520, 1248:2496]\n",
    "    y_arr_4 = x_arr[1760:3520, 1248:2496]\n",
    "    \n",
    "    np.savez_compressed('saved/train/' + onlyName + '_1.npz', x=x_arr_1, y=y_arr_1)\n",
    "    np.savez_compressed('saved/train/' + onlyName + '_2.npz', x=x_arr_2, y=y_arr_2)\n",
    "    np.savez_compressed('saved/train/' + onlyName + '_3.npz', x=x_arr_3, y=y_arr_3)\n",
    "    np.savez_compressed('saved/train/' + onlyName + '_4.npz', x=x_arr_4, y=y_arr_4)\n",
    "    #X_train[i] = normalized\n",
    "    #Y_train[i] = txt2mask('train_txt/' + filename.split('.')[0] + '.txt')\n",
    "    \n",
    "    "
   ]
  },
  {
   "cell_type": "code",
   "execution_count": 11,
   "metadata": {},
   "outputs": [
    {
     "name": "stderr",
     "output_type": "stream",
     "text": [
      "3it [00:09,  3.32s/it]/home/ivan/anaconda3/lib/python3.6/site-packages/tqdm/_monitor.py:89: TqdmSynchronisationWarning: Set changed size during iteration (see https://github.com/tqdm/tqdm/issues/481)\n",
      "  TqdmSynchronisationWarning)\n",
      "20it [01:06,  3.31s/it]\n"
     ]
    }
   ],
   "source": [
    "#_test\n",
    "#X_test = np.zeros((n_test_samples, h, w))\n",
    "#Y_test = np.zeros((n_test_samples, h, w))\n",
    "\n",
    "for i, filename in tqdm(enumerate(os.listdir('test_img/')[:n_test_samples])):\n",
    "    img = skimage.io.imread('test_img/' + filename)\n",
    "    if img.shape != (3508, 2480):\n",
    "        raise ValueError('yobik')\n",
    "    shaped = shape32(img)\n",
    "    normalized = shaped / 255.0\n",
    "    x_arr = normalized\n",
    "    y_arr = txt2mask('test_txt/' + filename.split('.')[0] + '.txt')\n",
    "    \n",
    "    x_arr_1 = x_arr[0:1760, 0:1248]\n",
    "    y_arr_1 = y_arr[0:1760, 0:1248]\n",
    "    x_arr_2 = x_arr[1760:3520, 0:1248]\n",
    "    y_arr_2 = y_arr[1760:3520, 0:1248]\n",
    "    x_arr_3 = x_arr[0:1760, 1248:2496]\n",
    "    y_arr_3 = x_arr[0:1760, 1248:2496]\n",
    "    x_arr_4 = x_arr[1760:3520, 1248:2496]\n",
    "    y_arr_4 = x_arr[1760:3520, 1248:2496]\n",
    "    np.savez_compressed('saved/test/' + filename.split('.')[0] + '_1.npz', x=x_arr_1, y=y_arr_1)\n",
    "    np.savez_compressed('saved/test/' + filename.split('.')[0] + '_2.npz', x=x_arr_2, y=y_arr_2)\n",
    "    np.savez_compressed('saved/test/' + filename.split('.')[0] + '_3.npz', x=x_arr_3, y=y_arr_3)\n",
    "    np.savez_compressed('saved/test/' + filename.split('.')[0] + '_4.npz', x=x_arr_4, y=y_arr_4)\n",
    "    #X_test[i] = normalized\n",
    "    #Y_test[i] = txt2mask('test_txt/' + filename.split('.')[0] + '.txt')\n",
    "    "
   ]
  },
  {
   "cell_type": "code",
   "execution_count": null,
   "metadata": {},
   "outputs": [],
   "source": [
    "np.savez_compressed('saved/arrays_train.npz', xtrain=X_train, ytrain = Y_train)\n",
    "np.savez_compressed('saved/arrays_test.npz', xtest=X_test, ytest = Y_test)"
   ]
  },
  {
   "cell_type": "code",
   "execution_count": 31,
   "metadata": {},
   "outputs": [],
   "source": [
    "def img_generator(directory, batch_size):\n",
    "    filenames = os.listdir(directory)\n",
    "    while True:\n",
    "        n_iter = len(filenames) // batch_size\n",
    "        residual = len(filenames) % batch_size\n",
    "        for i in range(n_iter):\n",
    "            size = batch_size\n",
    "            if (i == n_iter - 1) and (residual > 0):\n",
    "                size = residual\n",
    "            X = np.zeros((batch_size, h, w, 1))\n",
    "            y = np.zeros((batch_size, h * w, 2))\n",
    "            for j in range(size):\n",
    "                X[j] = np.load(directory + filenames[i * batch_size + j])['x'].reshape((h, w, 1))\n",
    "                y_ = np.load(directory + filenames[i * batch_size + j])['y'].reshape((h * w, ))\n",
    "                y[j, :, 1] = y_\n",
    "                y[j, :, 0] = 1 - y_\n",
    "            yield X, y"
   ]
  },
  {
   "cell_type": "code",
   "execution_count": 8,
   "metadata": {},
   "outputs": [],
   "source": [
    "train_generator = img_generator('saved/train/', 1)\n",
    "test_generator = img_generator('saved/test/', 1)"
   ]
  },
  {
   "cell_type": "code",
   "execution_count": null,
   "metadata": {},
   "outputs": [],
   "source": [
    "loaded_train = np.load('saved/arrays_train.npz')\n",
    "loaded_test = np.load('saved/arrays_test.npz')\n",
    "X_train = loaded_train['xtrain']\n",
    "Y_train = loaded_train['ytrain']\n",
    "X_test = loaded_test['xtest']\n",
    "Y_test = loaded_test['ytest']"
   ]
  },
  {
   "cell_type": "code",
   "execution_count": 21,
   "metadata": {},
   "outputs": [],
   "source": [
    "autoencoder = Sequential()"
   ]
  },
  {
   "cell_type": "code",
   "execution_count": 22,
   "metadata": {},
   "outputs": [
    {
     "name": "stderr",
     "output_type": "stream",
     "text": [
      "/home/ivan/anaconda3/lib/python3.6/site-packages/ipykernel_launcher.py:3: UserWarning: Update your `Conv2D` call to the Keras 2 API: `Conv2D(4, (15, 15), input_shape=(1760, 124..., padding=\"same\")`\n",
      "  This is separate from the ipykernel package so we can avoid doing imports until\n",
      "/home/ivan/anaconda3/lib/python3.6/site-packages/ipykernel_launcher.py:8: UserWarning: Update your `Conv2D` call to the Keras 2 API: `Conv2D(8, (15, 15), padding=\"same\")`\n",
      "  \n",
      "/home/ivan/anaconda3/lib/python3.6/site-packages/ipykernel_launcher.py:13: UserWarning: Update your `Conv2D` call to the Keras 2 API: `Conv2D(8, (15, 15), padding=\"same\")`\n",
      "  del sys.path[0]\n",
      "/home/ivan/anaconda3/lib/python3.6/site-packages/ipykernel_launcher.py:22: UserWarning: Update your `Conv2D` call to the Keras 2 API: `Conv2D(16, (15, 15), padding=\"same\")`\n",
      "/home/ivan/anaconda3/lib/python3.6/site-packages/ipykernel_launcher.py:27: UserWarning: Update your `Conv2D` call to the Keras 2 API: `Conv2D(16, (15, 15), padding=\"same\")`\n",
      "/home/ivan/anaconda3/lib/python3.6/site-packages/ipykernel_launcher.py:40: UserWarning: Update your `Conv2D` call to the Keras 2 API: `Conv2D(16, (15, 15), padding=\"same\")`\n",
      "/home/ivan/anaconda3/lib/python3.6/site-packages/ipykernel_launcher.py:46: UserWarning: Update your `Conv2D` call to the Keras 2 API: `Conv2D(16, (15, 15), padding=\"same\")`\n",
      "/home/ivan/anaconda3/lib/python3.6/site-packages/ipykernel_launcher.py:56: UserWarning: Update your `Conv2D` call to the Keras 2 API: `Conv2D(8, (15, 15), padding=\"same\")`\n",
      "/home/ivan/anaconda3/lib/python3.6/site-packages/ipykernel_launcher.py:61: UserWarning: Update your `Conv2D` call to the Keras 2 API: `Conv2D(8, (15, 15), padding=\"same\")`\n",
      "/home/ivan/anaconda3/lib/python3.6/site-packages/ipykernel_launcher.py:66: UserWarning: Update your `Conv2D` call to the Keras 2 API: `Conv2D(4, (15, 15), padding=\"same\")`\n",
      "/home/ivan/anaconda3/lib/python3.6/site-packages/ipykernel_launcher.py:69: UserWarning: Update your `Conv2D` call to the Keras 2 API: `Conv2D(2, (1, 1), padding=\"valid\")`\n"
     ]
    }
   ],
   "source": [
    "\n",
    "encoding_layers = [\n",
    "    Convolution2D(4, kernel, kernel, border_mode='same', input_shape=( 1760, 1248, 1)),\n",
    "    BatchNormalization(),\n",
    "    Activation('relu'),\n",
    "    MaxPooling2D(),\n",
    "#    \n",
    "    Convolution2D(8, kernel, kernel, border_mode='same'),\n",
    "    BatchNormalization(),\n",
    "    Activation('relu'),\n",
    "    MaxPooling2D(),\n",
    "#    \n",
    "    Convolution2D(8, kernel, kernel, border_mode='same'),\n",
    "    BatchNormalization(),\n",
    "    Activation('relu'),\n",
    "    MaxPooling2D(),\n",
    "#\n",
    "    #Convolution2D(64, kernel, kernel, border_mode='same'),\n",
    "    #BatchNormalization(),\n",
    "    #Activation('relu'),\n",
    "#   \n",
    "    Convolution2D(16, kernel, kernel, border_mode='same'),\n",
    "    BatchNormalization(),\n",
    "    Activation('relu'),\n",
    "    #MaxPooling2D(),\n",
    "#    \n",
    "    Convolution2D(16, kernel, kernel, border_mode='same'),\n",
    "    BatchNormalization(),\n",
    "    Activation('relu'),\n",
    "    MaxPooling2D(),\n",
    "]\n",
    "\n",
    "\n",
    "for l in encoding_layers:\n",
    "    autoencoder.add(l)\n",
    "    #print(l.input_shape,l.output_shape,l)\n",
    "\n",
    "decoding_layers = [\n",
    "    UpSampling2D(),\n",
    "    Convolution2D(16, kernel, kernel, border_mode='same'),\n",
    "    BatchNormalization(),\n",
    "    Activation('relu'),\n",
    "    \n",
    "#   \n",
    "    #UpSampling2D(),\n",
    "    Convolution2D(16, kernel, kernel, border_mode='same'),\n",
    "    BatchNormalization(),\n",
    "    Activation('relu'),\n",
    "    \n",
    "#   \n",
    "    #Convolution2D(64, kernel, kernel, border_mode='same'),\n",
    "    #BatchNormalization(),\n",
    "    #Activation('relu'),\n",
    "#\n",
    "    UpSampling2D(),\n",
    "    Convolution2D(8, kernel, kernel, border_mode='same'),\n",
    "    BatchNormalization(),\n",
    "    Activation('relu'),\n",
    "#   \n",
    "    UpSampling2D(),\n",
    "    Convolution2D(8, kernel, kernel, border_mode='same'),\n",
    "    BatchNormalization(),\n",
    "    Activation('relu'),\n",
    "#\n",
    "    UpSampling2D(),\n",
    "    Convolution2D(4, kernel, kernel, border_mode='same'),\n",
    "    BatchNormalization(),\n",
    "    Activation('relu'),\n",
    "    Convolution2D(n_labels, 1, 1, border_mode='valid'),\n",
    "    BatchNormalization(),\n",
    "    \n",
    "]\n",
    "\n",
    "for l in decoding_layers:\n",
    "    autoencoder.add(l)\n",
    "    #print(l.input_shape,l.output_shape,l)\n",
    "autoencoder.add(Reshape((n_labels, 1760 * 1248)))\n",
    "autoencoder.add(Permute((2, 1)))\n",
    "autoencoder.add(Activation('softmax'))"
   ]
  },
  {
   "cell_type": "code",
   "execution_count": 23,
   "metadata": {},
   "outputs": [
    {
     "name": "stdout",
     "output_type": "stream",
     "text": [
      "_________________________________________________________________\n",
      "Layer (type)                 Output Shape              Param #   \n",
      "=================================================================\n",
      "conv2d_27 (Conv2D)           (None, 1760, 1248, 4)     904       \n",
      "_________________________________________________________________\n",
      "batch_normalization_27 (Batc (None, 1760, 1248, 4)     16        \n",
      "_________________________________________________________________\n",
      "activation_27 (Activation)   (None, 1760, 1248, 4)     0         \n",
      "_________________________________________________________________\n",
      "max_pooling2d_11 (MaxPooling (None, 880, 624, 4)       0         \n",
      "_________________________________________________________________\n",
      "conv2d_28 (Conv2D)           (None, 880, 624, 8)       7208      \n",
      "_________________________________________________________________\n",
      "batch_normalization_28 (Batc (None, 880, 624, 8)       32        \n",
      "_________________________________________________________________\n",
      "activation_28 (Activation)   (None, 880, 624, 8)       0         \n",
      "_________________________________________________________________\n",
      "max_pooling2d_12 (MaxPooling (None, 440, 312, 8)       0         \n",
      "_________________________________________________________________\n",
      "conv2d_29 (Conv2D)           (None, 440, 312, 8)       14408     \n",
      "_________________________________________________________________\n",
      "batch_normalization_29 (Batc (None, 440, 312, 8)       32        \n",
      "_________________________________________________________________\n",
      "activation_29 (Activation)   (None, 440, 312, 8)       0         \n",
      "_________________________________________________________________\n",
      "max_pooling2d_13 (MaxPooling (None, 220, 156, 8)       0         \n",
      "_________________________________________________________________\n",
      "conv2d_30 (Conv2D)           (None, 220, 156, 16)      28816     \n",
      "_________________________________________________________________\n",
      "batch_normalization_30 (Batc (None, 220, 156, 16)      64        \n",
      "_________________________________________________________________\n",
      "activation_30 (Activation)   (None, 220, 156, 16)      0         \n",
      "_________________________________________________________________\n",
      "conv2d_31 (Conv2D)           (None, 220, 156, 16)      57616     \n",
      "_________________________________________________________________\n",
      "batch_normalization_31 (Batc (None, 220, 156, 16)      64        \n",
      "_________________________________________________________________\n",
      "activation_31 (Activation)   (None, 220, 156, 16)      0         \n",
      "_________________________________________________________________\n",
      "max_pooling2d_14 (MaxPooling (None, 110, 78, 16)       0         \n",
      "_________________________________________________________________\n",
      "up_sampling2d_11 (UpSampling (None, 220, 156, 16)      0         \n",
      "_________________________________________________________________\n",
      "conv2d_32 (Conv2D)           (None, 220, 156, 16)      57616     \n",
      "_________________________________________________________________\n",
      "batch_normalization_32 (Batc (None, 220, 156, 16)      64        \n",
      "_________________________________________________________________\n",
      "activation_32 (Activation)   (None, 220, 156, 16)      0         \n",
      "_________________________________________________________________\n",
      "conv2d_33 (Conv2D)           (None, 220, 156, 16)      57616     \n",
      "_________________________________________________________________\n",
      "batch_normalization_33 (Batc (None, 220, 156, 16)      64        \n",
      "_________________________________________________________________\n",
      "activation_33 (Activation)   (None, 220, 156, 16)      0         \n",
      "_________________________________________________________________\n",
      "up_sampling2d_12 (UpSampling (None, 440, 312, 16)      0         \n",
      "_________________________________________________________________\n",
      "conv2d_34 (Conv2D)           (None, 440, 312, 8)       28808     \n",
      "_________________________________________________________________\n",
      "batch_normalization_34 (Batc (None, 440, 312, 8)       32        \n",
      "_________________________________________________________________\n",
      "activation_34 (Activation)   (None, 440, 312, 8)       0         \n",
      "_________________________________________________________________\n",
      "up_sampling2d_13 (UpSampling (None, 880, 624, 8)       0         \n",
      "_________________________________________________________________\n",
      "conv2d_35 (Conv2D)           (None, 880, 624, 8)       14408     \n",
      "_________________________________________________________________\n",
      "batch_normalization_35 (Batc (None, 880, 624, 8)       32        \n",
      "_________________________________________________________________\n",
      "activation_35 (Activation)   (None, 880, 624, 8)       0         \n",
      "_________________________________________________________________\n",
      "up_sampling2d_14 (UpSampling (None, 1760, 1248, 8)     0         \n",
      "_________________________________________________________________\n",
      "conv2d_36 (Conv2D)           (None, 1760, 1248, 4)     7204      \n",
      "_________________________________________________________________\n",
      "batch_normalization_36 (Batc (None, 1760, 1248, 4)     16        \n",
      "_________________________________________________________________\n",
      "activation_36 (Activation)   (None, 1760, 1248, 4)     0         \n",
      "_________________________________________________________________\n",
      "conv2d_37 (Conv2D)           (None, 1760, 1248, 2)     10        \n",
      "_________________________________________________________________\n",
      "batch_normalization_37 (Batc (None, 1760, 1248, 2)     8         \n",
      "_________________________________________________________________\n",
      "reshape_3 (Reshape)          (None, 2, 2196480)        0         \n",
      "_________________________________________________________________\n",
      "permute_3 (Permute)          (None, 2196480, 2)        0         \n",
      "_________________________________________________________________\n",
      "activation_37 (Activation)   (None, 2196480, 2)        0         \n",
      "=================================================================\n",
      "Total params: 275,038\n",
      "Trainable params: 274,826\n",
      "Non-trainable params: 212\n",
      "_________________________________________________________________\n"
     ]
    }
   ],
   "source": [
    "autoencoder.summary()"
   ]
  },
  {
   "cell_type": "code",
   "execution_count": null,
   "metadata": {},
   "outputs": [
    {
     "name": "stdout",
     "output_type": "stream",
     "text": [
      "Epoch 1/10\n"
     ]
    }
   ],
   "source": [
    "train_generator = img_generator('saved/train/', 5)\n",
    "test_generator = img_generator('saved/test/', 5)\n",
    "\n",
    "autoencoder.compile(optimizer='adam', loss='categorical_crossentropy', metrics=['accuracy'])\n",
    "autoencoder.fit_generator(train_generator, steps_per_epoch=100//5, epochs=10, validation_data=test_generator, validation_steps=4)"
   ]
  },
  {
   "cell_type": "code",
   "execution_count": 24,
   "metadata": {},
   "outputs": [],
   "source": [
    "autoencoder.load_weights('segnet_weights.h5')"
   ]
  },
  {
   "cell_type": "code",
   "execution_count": 47,
   "metadata": {},
   "outputs": [
    {
     "name": "stderr",
     "output_type": "stream",
     "text": [
      "/home/ivan/anaconda3/lib/python3.6/site-packages/skimage/io/_io.py:132: UserWarning: temp/x.jpg is a low contrast image\n",
      "  warn('%s is a low contrast image' % fname)\n",
      "/home/ivan/anaconda3/lib/python3.6/site-packages/skimage/util/dtype.py:118: UserWarning: Possible sign loss when converting negative image of type int64 to positive image of type uint8.\n",
      "  .format(dtypeobj_in, dtypeobj_out))\n",
      "/home/ivan/anaconda3/lib/python3.6/site-packages/skimage/util/dtype.py:171: UserWarning: Downcasting int64 to uint8 without scaling because max value 255 fits in uint8\n",
      "  \"value {} fits in {}\".format(a.dtype, dtype, a.max(), dtype))\n"
     ]
    }
   ],
   "source": [
    "filename = '662.jpg'\n",
    "img = skimage.io.imread('test_img/' + filename)\n",
    "shaped = shape32(img) \n",
    "normalized = shaped / 255.0\n",
    "x_arr = normalized\n",
    "x_data = x_arr[0:1760, 0:1248]\n",
    "res = autoencoder.predict(x_data.reshape((1, h, w, 1)))\n",
    "img = res[0].reshape(1760, 1248, 2).argmax(axis=2)\n",
    "img = img * 255\n",
    "skimage.io.imsave('temp/x.jpg', img)"
   ]
  },
  {
   "cell_type": "code",
   "execution_count": 35,
   "metadata": {},
   "outputs": [],
   "source": []
  },
  {
   "cell_type": "code",
   "execution_count": 39,
   "metadata": {},
   "outputs": [],
   "source": []
  },
  {
   "cell_type": "code",
   "execution_count": 41,
   "metadata": {},
   "outputs": [
    {
     "name": "stdout",
     "output_type": "stream",
     "text": [
      "[[1 1 1 ... 0 0 0]\n",
      " [0 0 0 ... 0 0 0]\n",
      " [1 1 1 ... 0 0 0]\n",
      " ...\n",
      " [1 1 1 ... 0 0 0]\n",
      " [0 0 0 ... 0 1 0]\n",
      " [1 0 1 ... 0 0 0]]\n"
     ]
    }
   ],
   "source": [
    "print(a)"
   ]
  },
  {
   "cell_type": "code",
   "execution_count": 42,
   "metadata": {},
   "outputs": [
    {
     "name": "stderr",
     "output_type": "stream",
     "text": [
      "/home/ivan/anaconda3/lib/python3.6/site-packages/skimage/io/_plugins/matplotlib_plugin.py:51: FutureWarning: Conversion of the second argument of issubdtype from `float` to `np.floating` is deprecated. In future, it will be treated as `np.float64 == np.dtype(float).type`.\n",
      "  out_of_range_float = (np.issubdtype(image.dtype, np.float) and\n",
      "/home/ivan/anaconda3/lib/python3.6/site-packages/skimage/io/_plugins/matplotlib_plugin.py:74: UserWarning: Low image data range; displaying image with stretched contrast.\n",
      "  warn(\"Low image data range; displaying image with \"\n"
     ]
    },
    {
     "data": {
      "text/plain": [
       "<matplotlib.image.AxesImage at 0x7f7ac5a1c588>"
      ]
     },
     "execution_count": 42,
     "metadata": {},
     "output_type": "execute_result"
    },
    {
     "data": {
      "image/png": "[encoded data removed]",
      "text/plain": [
       "<matplotlib.figure.Figure at 0x7f7ac5a440b8>"
      ]
     },
     "metadata": {},
     "output_type": "display_data"
    }
   ],
   "source": [
    "skimage.io.imshow(a)"
   ]
  },
  {
   "cell_type": "code",
   "execution_count": 45,
   "metadata": {},
   "outputs": [
    {
     "name": "stderr",
     "output_type": "stream",
     "text": [
      "/home/ivan/anaconda3/lib/python3.6/site-packages/skimage/io/_plugins/matplotlib_plugin.py:51: FutureWarning: Conversion of the second argument of issubdtype from `float` to `np.floating` is deprecated. In future, it will be treated as `np.float64 == np.dtype(float).type`.\n",
      "  out_of_range_float = (np.issubdtype(image.dtype, np.float) and\n"
     ]
    },
    {
     "data": {
      "image/png": "[encoded data removed]",
      "text/plain": [
       "<matplotlib.figure.Figure at 0x7f7ac5adeac8>"
      ]
     },
     "metadata": {},
     "output_type": "display_data"
    }
   ],
   "source": [
    "img = skimage.io.imread('test_img/662.jpg')\n",
    "skimage.io.imshow(img)\n",
    "skimage.io.imsave('temp/x.jpg', img)"
   ]
  },
  {
   "cell_type": "code",
   "execution_count": null,
   "metadata": {},
   "outputs": [],
   "source": []
  }
 ],
 "metadata": {
  "kernelspec": {
   "display_name": "Python 3",
   "language": "python",
   "name": "python3"
  },
  "language_info": {
   "codemirror_mode": {
    "name": "ipython",
    "version": 3
   },
   "file_extension": ".py",
   "mimetype": "text/x-python",
   "name": "python",
   "nbconvert_exporter": "python",
   "pygments_lexer": "ipython3",
   "version": "3.6.4"
  }
 },
 "nbformat": 4,
 "nbformat_minor": 2
}
