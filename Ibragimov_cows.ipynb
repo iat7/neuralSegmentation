{
 "cells": [
  {
   "cell_type": "code",
   "execution_count": 106,
   "metadata": {},
   "outputs": [],
   "source": [
    "import numpy as np\n",
    "from keras import Sequential\n",
    "from keras.layers import Conv2D, Flatten, Dropout, Dense, MaxPooling2D\n",
    "from sklearn.feature_extraction.image import extract_patches_2d\n",
    "from os import listdir\n",
    "from skimage import io, transform, util, img_as_float\n",
    "from tqdm import tqdm_notebook\n",
    "import warnings\n",
    "from keras_tqdm import TQDMNotebookCallback\n",
    "from PIL import Image\n",
    "import numpy as np\n",
    "import pandas as pd\n",
    "from fastnumbers import fast_real\n",
    "%matplotlib inline"
   ]
  },
  {
   "cell_type": "code",
   "execution_count": 107,
   "metadata": {},
   "outputs": [],
   "source": [
    "def getLinesFromFile (path):\n",
    "    data = []\n",
    "    f = open(path, 'r', encoding='utf-8')\n",
    "    line = f.readline()\n",
    "    while line:\n",
    "        line = f.readline()\n",
    "        if line.split(\"\t\")[0] != \"\" :\n",
    "            num1 = line.split(\"\t\")[0]\n",
    "            num2 = line.split(\"\t\")[1].split(\"\\n\")[0]\n",
    "            data.append(fast_real(num1))\n",
    "            data.append(fast_real(num2))\n",
    "    f.close()\n",
    "    return data"
   ]
  },
  {
   "cell_type": "code",
   "execution_count": 108,
   "metadata": {},
   "outputs": [],
   "source": [
    "def getTextAndBackAreas (yLinesCoords):\n",
    "    res = np.zeros(3508)\n",
    "    i = 0\n",
    "    while i < len(yLinesCoords)/2:\n",
    "        j = yLinesCoords[2*i]\n",
    "        while j < yLinesCoords[2*i + 1]:\n",
    "            res[j] = 1\n",
    "            j += 1\n",
    "        i += 1   \n",
    "    return res"
   ]
  },
  {
   "cell_type": "code",
   "execution_count": 109,
   "metadata": {},
   "outputs": [],
   "source": [
    "def convertJpg2Png (path):\n",
    "    im = Image.open(path)\n",
    "    im.save(path.split('.')[0] + '.png')\n",
    "    pass"
   ]
  },
  {
   "cell_type": "code",
   "execution_count": 110,
   "metadata": {},
   "outputs": [],
   "source": [
    "def convert2greyscale (path):\n",
    "    img = Image.open(path).convert('LA')\n",
    "    img.save(path.split('.')[0] + '_greyscale.png')\n",
    "    pass"
   ]
  },
  {
   "cell_type": "code",
   "execution_count": 111,
   "metadata": {},
   "outputs": [],
   "source": [
    "def resizePng (path, newWidth, newHeigth):\n",
    "    img = Image.open(path)\n",
    "    resized_img = img.resize((newWidth, newHeigth), Image.ANTIALIAS)\n",
    "    resized_img.save(path.split('.')[0] + '_resized.png')\n",
    "    pass"
   ]
  },
  {
   "cell_type": "code",
   "execution_count": 112,
   "metadata": {},
   "outputs": [],
   "source": [
    "def agregate2array (path, width, heigth):\n",
    "    img = Image.open(path)\n",
    "    pix = np.array(img)\n",
    "    res = []\n",
    "    for i in range(heigth):\n",
    "        greySum = 0\n",
    "        for j in range(width):\n",
    "            greySum += pix[i][j][0]/pix[i][j][1]\n",
    "        greyAverage = greySum/width\n",
    "        res.append(greyAverage)\n",
    "    return np.array(res)"
   ]
  },
  {
   "cell_type": "code",
   "execution_count": 113,
   "metadata": {},
   "outputs": [],
   "source": [
    "path_to_lines = \"582.txt\"\n",
    "path_to_img = \"582.jpg\"\n",
    "width = 2480\n",
    "heigth = 3508"
   ]
  },
  {
   "cell_type": "code",
   "execution_count": 114,
   "metadata": {},
   "outputs": [],
   "source": [
    "yLinesCoords = getLinesFromFile (path_to_lines)\n",
    "oneZeroArr = getTextAndBackAreas(yLinesCoords)\n",
    "\n",
    "convertJpg2Png (path_to_img)\n",
    "convert2greyscale (path_to_img)\n",
    "greyAgrArr = agregate2array (path_to_img.split('.')[0] + '_greyscale.png', width, heigth)"
   ]
  },
  {
   "cell_type": "code",
   "execution_count": 115,
   "metadata": {},
   "outputs": [
    {
     "name": "stdout",
     "output_type": "stream",
     "text": [
      "(3508,)\n"
     ]
    }
   ],
   "source": [
    "print (oneZeroArr.shape)"
   ]
  },
  {
   "cell_type": "code",
   "execution_count": 116,
   "metadata": {},
   "outputs": [
    {
     "name": "stdout",
     "output_type": "stream",
     "text": [
      "(3508,)\n"
     ]
    }
   ],
   "source": [
    "print (greyAgrArr.shape)"
   ]
  },
  {
   "cell_type": "code",
   "execution_count": 119,
   "metadata": {},
   "outputs": [],
   "source": [
    "oneZeroArr = oneZeroArr.reshape (1, -1)\n",
    "greyAgrArr = greyAgrArr.reshape (1, -1)"
   ]
  },
  {
   "cell_type": "code",
   "execution_count": 120,
   "metadata": {},
   "outputs": [
    {
     "name": "stdout",
     "output_type": "stream",
     "text": [
      "(1, 3508)\n",
      "(1, 3508)\n"
     ]
    }
   ],
   "source": [
    "print (oneZeroArr.shape)\n",
    "print (greyAgrArr.shape)"
   ]
  },
  {
   "cell_type": "code",
   "execution_count": 129,
   "metadata": {},
   "outputs": [],
   "source": [
    "path_to_img2 = \"583.jpg\"\n",
    "convertJpg2Png (path_to_img2)\n",
    "convert2greyscale (path_to_img2)\n",
    "greyAgrArr2 = agregate2array (path_to_img2.split('.')[0] + '_greyscale.png', width, heigth)\n",
    "greyAgrArr2 = greyAgrArr2.reshape(1, -1)"
   ]
  },
  {
   "cell_type": "code",
   "execution_count": null,
   "metadata": {},
   "outputs": [
    {
     "name": "stderr",
     "output_type": "stream",
     "text": [
      "/home/ivan/anaconda3/lib/python3.6/site-packages/keras/models.py:981: UserWarning: The `nb_epoch` argument in `fit` has been renamed `epochs`.\n",
      "  warnings.warn('The `nb_epoch` argument in `fit` '\n"
     ]
    },
    {
     "name": "stdout",
     "output_type": "stream",
     "text": [
      "Epoch 1/1\n"
     ]
    }
   ],
   "source": [
    "from keras.layers import Embedding, LSTM, Dense, Activation\n",
    "\n",
    "max_features = 1000\n",
    "maxlen = 3508 \n",
    "batch_size = 1\n",
    "\n",
    "model = Sequential()\n",
    "model.add(Embedding(max_features, 3508, input_length=maxlen))\n",
    "model.add(LSTM(3508))\n",
    "model.add(Activation('sigmoid'))\n",
    "\n",
    "model.compile(loss='binary_crossentropy',\n",
    "              optimizer='adam'\n",
    "              )\n",
    "\n",
    "model.fit(\n",
    "    greyAgrArr, oneZeroArr, \n",
    "    batch_size=batch_size, \n",
    "    nb_epoch=1,\n",
    "    verbose = 1,\n",
    "    \n",
    ")\n",
    "\n",
    "result = model.predict_proba(greyAgrArr2)\n",
    "print(result)"
   ]
  },
  {
   "cell_type": "code",
   "execution_count": null,
   "metadata": {},
   "outputs": [],
   "source": []
  }
 ],
 "metadata": {
  "kernelspec": {
   "display_name": "Python 3",
   "language": "python",
   "name": "python3"
  },
  "language_info": {
   "codemirror_mode": {
    "name": "ipython",
    "version": 3
   },
   "file_extension": ".py",
   "mimetype": "text/x-python",
   "name": "python",
   "nbconvert_exporter": "python",
   "pygments_lexer": "ipython3",
   "version": "3.6.4"
  }
 },
 "nbformat": 4,
 "nbformat_minor": 2
}
